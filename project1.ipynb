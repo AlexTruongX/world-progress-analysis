{
 "cells": [
  {
   "cell_type": "code",
   "execution_count": 1,
   "metadata": {
    "deletable": false,
    "editable": false
   },
   "outputs": [
    {
     "name": "stdout",
     "output_type": "stream",
     "text": [
      "=====================================================================\n",
      "Assignment: Project 1: World Progress\n",
      "OK, version v1.18.1\n",
      "=====================================================================\n",
      "\n"
     ]
    }
   ],
   "source": [
    "# Initialize OK\n",
    "from client.api.notebook import Notebook\n",
    "ok = Notebook('project1.ok')"
   ]
  },
  {
   "cell_type": "markdown",
   "metadata": {},
   "source": [
    "## Project 1: World Progress"
   ]
  },
  {
   "cell_type": "markdown",
   "metadata": {},
   "source": [
    "In this project, you'll explore data from [Gapminder.org](http://gapminder.org), a website dedicated to providing a fact-based view of the world and how it has changed. That site includes several data visualizations and presentations, but also publishes the raw data that we will use in this project to recreate and extend some of their most famous visualizations.\n",
    "\n",
    "The Gapminder website collects data from many sources and compiles them into tables that describe many countries around the world. All of the data they aggregate are published in the [Systema Globalis](https://github.com/open-numbers/ddf--gapminder--systema_globalis/blob/master/README.md). Their goal is \"to compile all public statistics; Social, Economic and Environmental; into a comparable total dataset.\" All data sets in this project are copied directly from the Systema Globalis without any changes.\n",
    "\n",
    "This project is dedicated to [Hans Rosling](https://en.wikipedia.org/wiki/Hans_Rosling) (1948-2017), who championed the use of data to understand and prioritize global development challenges."
   ]
  },
  {
   "cell_type": "markdown",
   "metadata": {},
   "source": [
    "### Logistics\n",
    "\n",
    "**Deadline.** This project is due at 11:59pm on Friday 2/28. Projects will be accepted up to 2 days (48 hours) late; a project submitted less than 24 hours after the deadline will receive 2/3 credit, a project submitted between 24 and 48 hours after the deadline will receive 1/3 credit, and a project submitted 48 hours or more after the deadline will receive no credit. It's **much** better to be early than late, so start working now.\n",
    "\n",
    "**Checkpoint.** For full credit, you must also complete the first 8 questions, pass all public autograder tests, and submit to okpy by 11:59pm on Friday 2/21. After you've submitted the checkpoint, you may still change your answers before the project deadline - only your final submission will be graded for correctness. You will have some lab time to work on these questions, but we recommend that you start the project before lab and leave time to finish the checkpoint afterward.\n",
    "\n",
    "**Partners.** You may work with one other partner; your partner must be from your assigned lab section. Only one of you is required to submit the project. On [okpy.org](http://okpy.org), the person who submits should also designate their partner so that both of you receive credit.\n",
    "\n",
    "**Rules.** Don't share your code with anybody but your partner. You are welcome to discuss questions with other students, but don't share the answers. The experience of solving the problems in this project will prepare you for exams (and life). If someone asks you for the answer, resist! Instead, you can demonstrate how you would solve a similar problem.\n",
    "\n",
    "**Support.** You are not alone! Come to office hours, post on Piazza, and talk to your classmates. If you want to ask about the details of your solution to a problem, make a private Piazza post and the staff will respond. If you're ever feeling overwhelmed or don't know how to make progress, email your TA or tutor for help. You can find contact information for the staff on the [course website](http://data8.org/sp20/staff.html).\n",
    "\n",
    "**Tests.** The tests that are given are **not comprehensive** and passing the tests for a question **does not** mean that you answered the question correctly. Tests usually only check that your table has the correct column labels. However, more tests will be applied to verify the correctness of your submission in order to assign your final score, so be careful and check your work! You might want to create your own checks along the way to see if your answers make sense. Additionally, before you submit, make sure that none of your cells take a very long time to run (several minutes).\n",
    "\n",
    "**Free Response Questions:** Make sure that you put the answers to the written questions in the indicated cell we provide. Check to make sure that you have a [Gradescope](http://gradescope.com) account, which is where the scores to the free response questions will be posted. If you do not, make sure to reach out to your assigned (u)GSI.\n",
    "\n",
    "**Advice.** Develop your answers incrementally. To perform a complicated table manipulation, break it up into steps, perform each step on a different line, give a new name to each result, and check that each intermediate result is what you expect. You can add any additional names or functions you want to the provided cells. Make sure that you are using distinct and meaningful variable names throughout the notebook. Along that line, **DO NOT** reuse the variable names that we use when we grade your answers. For example, in Question 1 of the Global Poverty section, we ask you to assign an answer to `latest`. Do not reassign the variable name `latest` to anything else in your notebook, otherwise there is the chance that our tests grade against what `latest` was reassigned to.\n",
    "\n",
    "You **never** have to use just one line in this project or any others. Use intermediate variables and multiple lines as much as you would like!  \n",
    "\n",
    "To get started, load `datascience`, `numpy`, `plots`, and `ok`."
   ]
  },
  {
   "cell_type": "code",
   "execution_count": 1,
   "metadata": {},
   "outputs": [
    {
     "name": "stdout",
     "output_type": "stream",
     "text": [
      "=====================================================================\n",
      "Assignment: Project 1: World Progress\n",
      "OK, version v1.18.1\n",
      "=====================================================================\n",
      "\n"
     ]
    }
   ],
   "source": [
    "from datascience import *\n",
    "import numpy as np\n",
    "\n",
    "%matplotlib inline\n",
    "import matplotlib.pyplot as plots\n",
    "plots.style.use('fivethirtyeight')\n",
    "\n",
    "from client.api.notebook import Notebook\n",
    "ok = Notebook('project1.ok')"
   ]
  },
  {
   "cell_type": "markdown",
   "metadata": {},
   "source": [
    "Before continuing the assignment, select \"Save and Checkpoint\" in the File menu and then execute the submit cell below. The result will contain a link that you can use to check that your assignment has been submitted successfully. If you submit more than once before the deadline, we will only grade your final submission. If you mistakenly submit the wrong one, you can head to okpy.org and flag the correct version. There will be another submit cell at the end of the assignment when you finish!"
   ]
  },
  {
   "cell_type": "code",
   "execution_count": 2,
   "metadata": {},
   "outputs": [
    {
     "data": {
      "application/javascript": [
       "IPython.notebook.save_checkpoint();"
      ],
      "text/plain": [
       "<IPython.core.display.Javascript object>"
      ]
     },
     "metadata": {},
     "output_type": "display_data"
    },
    {
     "data": {
      "application/javascript": [
       "IPython.notebook.save_notebook();"
      ],
      "text/plain": [
       "<IPython.core.display.Javascript object>"
      ]
     },
     "metadata": {},
     "output_type": "display_data"
    },
    {
     "name": "stdout",
     "output_type": "stream",
     "text": [
      "Saving notebook... Saved 'project1.ipynb'.\n",
      "Submit... 0.0% complete\n",
      "Could not submit: Late Submission of cal/data8/sp20/project1\n",
      "Backup... 100% complete\n",
      "Backup past deadline by 270 days, 18 hours, 35 minutes, and 49 seconds\n",
      "\n"
     ]
    }
   ],
   "source": [
    "_ = ok.submit()"
   ]
  },
  {
   "cell_type": "markdown",
   "metadata": {
    "deletable": false,
    "editable": false
   },
   "source": [
    "## 1. Global Population Growth\n"
   ]
  },
  {
   "cell_type": "markdown",
   "metadata": {
    "deletable": false,
    "editable": false
   },
   "source": [
    "The global population of humans reached 1 billion around 1800, 3 billion around 1960, and 7 billion around 2011. The potential impact of exponential population growth has concerned scientists, economists, and politicians alike.\n",
    "\n",
    "The UN Population Division estimates that the world population will likely continue to grow throughout the 21st century, but at a slower rate, perhaps reaching 11 billion by 2100. However, the UN does not rule out scenarios of more extreme growth.\n",
    "\n",
    "<a href=\"http://www.pewresearch.org/fact-tank/2015/06/08/scientists-more-worried-than-public-about-worlds-growing-population/ft_15-06-04_popcount/\"> \n",
    " <img src=\"pew_population_projection.png\"/> \n",
    "</a>\n",
    "\n",
    "In this section, we will examine some of the factors that influence population growth and how they are changing around the world.\n",
    "\n",
    "The first table we will consider is the total population of each country over time. Run the cell below."
   ]
  },
  {
   "cell_type": "code",
   "execution_count": 3,
   "metadata": {
    "deletable": false,
    "editable": false
   },
   "outputs": [
    {
     "data": {
      "text/html": [
       "<table border=\"1\" class=\"dataframe\">\n",
       "    <thead>\n",
       "        <tr>\n",
       "            <th>geo</th> <th>time</th> <th>population_total</th>\n",
       "        </tr>\n",
       "    </thead>\n",
       "    <tbody>\n",
       "        <tr>\n",
       "            <td>abw </td> <td>1800</td> <td>19286           </td>\n",
       "        </tr>\n",
       "        <tr>\n",
       "            <td>abw </td> <td>1801</td> <td>19286           </td>\n",
       "        </tr>\n",
       "        <tr>\n",
       "            <td>abw </td> <td>1802</td> <td>19286           </td>\n",
       "        </tr>\n",
       "    </tbody>\n",
       "</table>\n",
       "<p>... (87792 rows omitted)</p>"
      ],
      "text/plain": [
       "<IPython.core.display.HTML object>"
      ]
     },
     "metadata": {},
     "output_type": "display_data"
    }
   ],
   "source": [
    "population = Table.read_table('population.csv')\n",
    "population.show(3)"
   ]
  },
  {
   "cell_type": "markdown",
   "metadata": {},
   "source": [
    "**Note:** The population csv file can also be found [here](https://github.com/open-numbers/ddf--gapminder--systema_globalis/raw/master/ddf--datapoints--population_total--by--geo--time.csv). The data for this project was downloaded in February 2017."
   ]
  },
  {
   "cell_type": "markdown",
   "metadata": {
    "deletable": false,
    "editable": false
   },
   "source": [
    "### Bangladesh\n",
    "\n",
    "In the `population` table, the `geo` column contains three-letter codes established by the [International Organization for Standardization](https://en.wikipedia.org/wiki/International_Organization_for_Standardization) (ISO) in the [Alpha-3](https://en.wikipedia.org/wiki/ISO_3166-1_alpha-3#Current_codes) standard. We will begin by taking a close look at Bangladesh. Inspect the standard to find the 3-letter code for Bangladesh."
   ]
  },
  {
   "cell_type": "markdown",
   "metadata": {
    "deletable": false,
    "editable": false
   },
   "source": [
    "**Question 1.** Create a table called `b_pop` that has two columns labeled `time` and `population_total`. The first column should contain the years from 1970 through 2015 (including both 1970 and 2015) and the second should contain the population of Bangladesh in each of those years.\n",
    "\n",
    "<!--\n",
    "BEGIN QUESTION\n",
    "name: q1_1\n",
    "-->"
   ]
  },
  {
   "cell_type": "code",
   "execution_count": 4,
   "metadata": {
    "deletable": false
   },
   "outputs": [
    {
     "data": {
      "text/html": [
       "<table border=\"1\" class=\"dataframe\">\n",
       "    <thead>\n",
       "        <tr>\n",
       "            <th>time</th> <th>population_total</th>\n",
       "        </tr>\n",
       "    </thead>\n",
       "    <tbody>\n",
       "        <tr>\n",
       "            <td>1970</td> <td>65048701        </td>\n",
       "        </tr>\n",
       "        <tr>\n",
       "            <td>1971</td> <td>66417450        </td>\n",
       "        </tr>\n",
       "        <tr>\n",
       "            <td>1972</td> <td>67578486        </td>\n",
       "        </tr>\n",
       "        <tr>\n",
       "            <td>1973</td> <td>68658472        </td>\n",
       "        </tr>\n",
       "        <tr>\n",
       "            <td>1974</td> <td>69837960        </td>\n",
       "        </tr>\n",
       "        <tr>\n",
       "            <td>1975</td> <td>71247153        </td>\n",
       "        </tr>\n",
       "        <tr>\n",
       "            <td>1976</td> <td>72930206        </td>\n",
       "        </tr>\n",
       "        <tr>\n",
       "            <td>1977</td> <td>74848466        </td>\n",
       "        </tr>\n",
       "        <tr>\n",
       "            <td>1978</td> <td>76948378        </td>\n",
       "        </tr>\n",
       "        <tr>\n",
       "            <td>1979</td> <td>79141947        </td>\n",
       "        </tr>\n",
       "    </tbody>\n",
       "</table>\n",
       "<p>... (36 rows omitted)</p>"
      ],
      "text/plain": [
       "time | population_total\n",
       "1970 | 65048701\n",
       "1971 | 66417450\n",
       "1972 | 67578486\n",
       "1973 | 68658472\n",
       "1974 | 69837960\n",
       "1975 | 71247153\n",
       "1976 | 72930206\n",
       "1977 | 74848466\n",
       "1978 | 76948378\n",
       "1979 | 79141947\n",
       "... (36 rows omitted)"
      ]
     },
     "execution_count": 4,
     "metadata": {},
     "output_type": "execute_result"
    }
   ],
   "source": [
    "b_pop = population.where(\"geo\", are.equal_to(\"bgd\")).where(\"time\", are.between_or_equal_to(1970, 2015)).drop(\"geo\")\n",
    "b_pop"
   ]
  },
  {
   "cell_type": "code",
   "execution_count": 5,
   "metadata": {
    "deletable": false,
    "editable": false
   },
   "outputs": [
    {
     "name": "stdout",
     "output_type": "stream",
     "text": [
      "~~~~~~~~~~~~~~~~~~~~~~~~~~~~~~~~~~~~~~~~~~~~~~~~~~~~~~~~~~~~~~~~~~~~~\n",
      "Running tests\n",
      "\n",
      "---------------------------------------------------------------------\n",
      "Test summary\n",
      "    Passed: 2\n",
      "    Failed: 0\n",
      "[ooooooooook] 100.0% passed\n",
      "\n"
     ]
    }
   ],
   "source": [
    "ok.grade(\"q1_1\");"
   ]
  },
  {
   "cell_type": "markdown",
   "metadata": {
    "deletable": false,
    "editable": false
   },
   "source": [
    "Run the following cell to create a table called `b_five` that has the population of Bangladesh every five years. At a glance, it appears that the population of Bangladesh has been growing quickly indeed!"
   ]
  },
  {
   "cell_type": "code",
   "execution_count": 6,
   "metadata": {
    "deletable": false,
    "editable": false
   },
   "outputs": [
    {
     "data": {
      "text/html": [
       "<table border=\"1\" class=\"dataframe\">\n",
       "    <thead>\n",
       "        <tr>\n",
       "            <th>time</th> <th>population_total</th>\n",
       "        </tr>\n",
       "    </thead>\n",
       "    <tbody>\n",
       "        <tr>\n",
       "            <td>1970</td> <td>65,048,701      </td>\n",
       "        </tr>\n",
       "        <tr>\n",
       "            <td>1975</td> <td>71,247,153      </td>\n",
       "        </tr>\n",
       "        <tr>\n",
       "            <td>1980</td> <td>81,364,176      </td>\n",
       "        </tr>\n",
       "        <tr>\n",
       "            <td>1985</td> <td>93,015,182      </td>\n",
       "        </tr>\n",
       "        <tr>\n",
       "            <td>1990</td> <td>105,983,136     </td>\n",
       "        </tr>\n",
       "        <tr>\n",
       "            <td>1995</td> <td>118,427,768     </td>\n",
       "        </tr>\n",
       "        <tr>\n",
       "            <td>2000</td> <td>131,280,739     </td>\n",
       "        </tr>\n",
       "        <tr>\n",
       "            <td>2005</td> <td>142,929,979     </td>\n",
       "        </tr>\n",
       "        <tr>\n",
       "            <td>2010</td> <td>151,616,777     </td>\n",
       "        </tr>\n",
       "        <tr>\n",
       "            <td>2015</td> <td>160,995,642     </td>\n",
       "        </tr>\n",
       "    </tbody>\n",
       "</table>"
      ],
      "text/plain": [
       "time | population_total\n",
       "1970 | 65,048,701\n",
       "1975 | 71,247,153\n",
       "1980 | 81,364,176\n",
       "1985 | 93,015,182\n",
       "1990 | 105,983,136\n",
       "1995 | 118,427,768\n",
       "2000 | 131,280,739\n",
       "2005 | 142,929,979\n",
       "2010 | 151,616,777\n",
       "2015 | 160,995,642"
      ]
     },
     "execution_count": 6,
     "metadata": {},
     "output_type": "execute_result"
    }
   ],
   "source": [
    "b_pop.set_format('population_total', NumberFormatter)\n",
    "\n",
    "fives = np.arange(1970, 2016, 5) # 1970, 1975, 1980, ...\n",
    "b_five = b_pop.sort('time').where('time', are.contained_in(fives))\n",
    "b_five"
   ]
  },
  {
   "cell_type": "markdown",
   "metadata": {
    "deletable": false,
    "editable": false
   },
   "source": [
    "**Question 2.** Assign `initial` to an array that contains the population for every five year interval from 1970 to 2010. Then, assign `changed` to an array that contains the population for every five year interval from 1975 to 2015. You should use the `b_five` table to create both arrays, first filtering the table to only contain the relevant years.\n",
    "\n",
    "We have provided the code below that uses  `initial` and `changed` in order to add a column to `b_five` called `annual_growth`. Don't worry about the calculation of the growth rates; run the test below to test your solution.\n",
    "\n",
    "If you are interested in how we came up with the formula for growth rates, consult the [growth rates](https://www.inferentialthinking.com/chapters/03/2/1/growth) section of the textbook.\n",
    "\n",
    "<!--\n",
    "BEGIN QUESTION\n",
    "name: q1_2\n",
    "-->"
   ]
  },
  {
   "cell_type": "code",
   "execution_count": 7,
   "metadata": {
    "deletable": false
   },
   "outputs": [
    {
     "data": {
      "text/html": [
       "<table border=\"1\" class=\"dataframe\">\n",
       "    <thead>\n",
       "        <tr>\n",
       "            <th>time</th> <th>population_total</th> <th>annual_growth</th>\n",
       "        </tr>\n",
       "    </thead>\n",
       "    <tbody>\n",
       "        <tr>\n",
       "            <td>1970</td> <td>65,048,701      </td> <td>1.84%        </td>\n",
       "        </tr>\n",
       "        <tr>\n",
       "            <td>1975</td> <td>71,247,153      </td> <td>2.69%        </td>\n",
       "        </tr>\n",
       "        <tr>\n",
       "            <td>1980</td> <td>81,364,176      </td> <td>2.71%        </td>\n",
       "        </tr>\n",
       "        <tr>\n",
       "            <td>1985</td> <td>93,015,182      </td> <td>2.64%        </td>\n",
       "        </tr>\n",
       "        <tr>\n",
       "            <td>1990</td> <td>105,983,136     </td> <td>2.25%        </td>\n",
       "        </tr>\n",
       "        <tr>\n",
       "            <td>1995</td> <td>118,427,768     </td> <td>2.08%        </td>\n",
       "        </tr>\n",
       "        <tr>\n",
       "            <td>2000</td> <td>131,280,739     </td> <td>1.71%        </td>\n",
       "        </tr>\n",
       "        <tr>\n",
       "            <td>2005</td> <td>142,929,979     </td> <td>1.19%        </td>\n",
       "        </tr>\n",
       "        <tr>\n",
       "            <td>2010</td> <td>151,616,777     </td> <td>1.21%        </td>\n",
       "        </tr>\n",
       "    </tbody>\n",
       "</table>"
      ],
      "text/plain": [
       "time | population_total | annual_growth\n",
       "1970 | 65,048,701       | 1.84%\n",
       "1975 | 71,247,153       | 2.69%\n",
       "1980 | 81,364,176       | 2.71%\n",
       "1985 | 93,015,182       | 2.64%\n",
       "1990 | 105,983,136      | 2.25%\n",
       "1995 | 118,427,768      | 2.08%\n",
       "2000 | 131,280,739      | 1.71%\n",
       "2005 | 142,929,979      | 1.19%\n",
       "2010 | 151,616,777      | 1.21%"
      ]
     },
     "execution_count": 7,
     "metadata": {},
     "output_type": "execute_result"
    }
   ],
   "source": [
    "initial = b_five.where(\"time\", are.below_or_equal_to(2010)).column(\"population_total\")\n",
    "changed = b_five.where(\"time\", are.above_or_equal_to(1975)).column(\"population_total\")\n",
    "\n",
    "b_1970_through_2010 = b_five.where('time', are.below_or_equal_to(2010)) \n",
    "b_five_growth = b_1970_through_2010.with_column('annual_growth', (changed/initial)**0.2-1)\n",
    "b_five_growth.set_format('annual_growth', PercentFormatter)"
   ]
  },
  {
   "cell_type": "code",
   "execution_count": 8,
   "metadata": {
    "deletable": false,
    "editable": false
   },
   "outputs": [
    {
     "name": "stdout",
     "output_type": "stream",
     "text": [
      "~~~~~~~~~~~~~~~~~~~~~~~~~~~~~~~~~~~~~~~~~~~~~~~~~~~~~~~~~~~~~~~~~~~~~\n",
      "Running tests\n",
      "\n",
      "---------------------------------------------------------------------\n",
      "Test summary\n",
      "    Passed: 2\n",
      "    Failed: 0\n",
      "[ooooooooook] 100.0% passed\n",
      "\n"
     ]
    }
   ],
   "source": [
    "ok.grade(\"q1_2\");"
   ]
  },
  {
   "cell_type": "markdown",
   "metadata": {
    "deletable": false,
    "editable": false
   },
   "source": [
    "While the population has grown every five years since 1970, the annual growth rate decreased dramatically from 1985 to 2005. Let's look at some other information in order to develop a possible explanation. Run the next cell to load three additional tables of measurements about countries over time."
   ]
  },
  {
   "cell_type": "code",
   "execution_count": 9,
   "metadata": {
    "deletable": false,
    "editable": false
   },
   "outputs": [],
   "source": [
    "life_expectancy = Table.read_table('life_expectancy.csv')\n",
    "child_mortality = Table.read_table('child_mortality.csv').relabel(2, 'child_mortality_under_5_per_1000_born')\n",
    "fertility = Table.read_table('fertility.csv')"
   ]
  },
  {
   "cell_type": "markdown",
   "metadata": {
    "deletable": false,
    "editable": false
   },
   "source": [
    "The `life_expectancy` table contains a statistic that is often used to measure how long people live, called *life expectancy at birth*. This number, for a country in a given year, [does not measure how long babies born in that year are expected to live](http://blogs.worldbank.org/opendata/what-does-life-expectancy-birth-really-mean). Instead, it measures how long someone would live, on average, if the *mortality conditions* in that year persisted throughout their lifetime. These \"mortality conditions\" describe what fraction of people at each age survived the year. So, it is a way of measuring the proportion of people that are staying alive, aggregated over different age groups in the population."
   ]
  },
  {
   "cell_type": "markdown",
   "metadata": {},
   "source": [
    "Run the following cells below to see `life_expectancy`, `child_mortality`, and `fertility`. Refer back to these tables as they will be helpful for answering further questions!"
   ]
  },
  {
   "cell_type": "code",
   "execution_count": 10,
   "metadata": {},
   "outputs": [
    {
     "data": {
      "text/html": [
       "<table border=\"1\" class=\"dataframe\">\n",
       "    <thead>\n",
       "        <tr>\n",
       "            <th>geo</th> <th>time</th> <th>life_expectancy_years</th>\n",
       "        </tr>\n",
       "    </thead>\n",
       "    <tbody>\n",
       "        <tr>\n",
       "            <td>afg </td> <td>1800</td> <td>28.21                </td>\n",
       "        </tr>\n",
       "        <tr>\n",
       "            <td>afg </td> <td>1801</td> <td>28.2                 </td>\n",
       "        </tr>\n",
       "        <tr>\n",
       "            <td>afg </td> <td>1802</td> <td>28.19                </td>\n",
       "        </tr>\n",
       "        <tr>\n",
       "            <td>afg </td> <td>1803</td> <td>28.18                </td>\n",
       "        </tr>\n",
       "        <tr>\n",
       "            <td>afg </td> <td>1804</td> <td>28.17                </td>\n",
       "        </tr>\n",
       "        <tr>\n",
       "            <td>afg </td> <td>1805</td> <td>28.16                </td>\n",
       "        </tr>\n",
       "        <tr>\n",
       "            <td>afg </td> <td>1806</td> <td>28.15                </td>\n",
       "        </tr>\n",
       "        <tr>\n",
       "            <td>afg </td> <td>1807</td> <td>28.14                </td>\n",
       "        </tr>\n",
       "        <tr>\n",
       "            <td>afg </td> <td>1808</td> <td>28.13                </td>\n",
       "        </tr>\n",
       "        <tr>\n",
       "            <td>afg </td> <td>1809</td> <td>28.12                </td>\n",
       "        </tr>\n",
       "    </tbody>\n",
       "</table>\n",
       "<p>... (43847 rows omitted)</p>"
      ],
      "text/plain": [
       "geo  | time | life_expectancy_years\n",
       "afg  | 1800 | 28.21\n",
       "afg  | 1801 | 28.2\n",
       "afg  | 1802 | 28.19\n",
       "afg  | 1803 | 28.18\n",
       "afg  | 1804 | 28.17\n",
       "afg  | 1805 | 28.16\n",
       "afg  | 1806 | 28.15\n",
       "afg  | 1807 | 28.14\n",
       "afg  | 1808 | 28.13\n",
       "afg  | 1809 | 28.12\n",
       "... (43847 rows omitted)"
      ]
     },
     "execution_count": 10,
     "metadata": {},
     "output_type": "execute_result"
    }
   ],
   "source": [
    "life_expectancy"
   ]
  },
  {
   "cell_type": "code",
   "execution_count": 11,
   "metadata": {},
   "outputs": [
    {
     "data": {
      "text/html": [
       "<table border=\"1\" class=\"dataframe\">\n",
       "    <thead>\n",
       "        <tr>\n",
       "            <th>geo</th> <th>time</th> <th>child_mortality_under_5_per_1000_born</th>\n",
       "        </tr>\n",
       "    </thead>\n",
       "    <tbody>\n",
       "        <tr>\n",
       "            <td>afg </td> <td>1800</td> <td>468.6                                </td>\n",
       "        </tr>\n",
       "        <tr>\n",
       "            <td>afg </td> <td>1801</td> <td>468.6                                </td>\n",
       "        </tr>\n",
       "        <tr>\n",
       "            <td>afg </td> <td>1802</td> <td>468.6                                </td>\n",
       "        </tr>\n",
       "        <tr>\n",
       "            <td>afg </td> <td>1803</td> <td>468.6                                </td>\n",
       "        </tr>\n",
       "        <tr>\n",
       "            <td>afg </td> <td>1804</td> <td>468.6                                </td>\n",
       "        </tr>\n",
       "        <tr>\n",
       "            <td>afg </td> <td>1805</td> <td>468.6                                </td>\n",
       "        </tr>\n",
       "        <tr>\n",
       "            <td>afg </td> <td>1806</td> <td>470                                  </td>\n",
       "        </tr>\n",
       "        <tr>\n",
       "            <td>afg </td> <td>1807</td> <td>470                                  </td>\n",
       "        </tr>\n",
       "        <tr>\n",
       "            <td>afg </td> <td>1808</td> <td>470                                  </td>\n",
       "        </tr>\n",
       "        <tr>\n",
       "            <td>afg </td> <td>1809</td> <td>470                                  </td>\n",
       "        </tr>\n",
       "    </tbody>\n",
       "</table>\n",
       "<p>... (40746 rows omitted)</p>"
      ],
      "text/plain": [
       "geo  | time | child_mortality_under_5_per_1000_born\n",
       "afg  | 1800 | 468.6\n",
       "afg  | 1801 | 468.6\n",
       "afg  | 1802 | 468.6\n",
       "afg  | 1803 | 468.6\n",
       "afg  | 1804 | 468.6\n",
       "afg  | 1805 | 468.6\n",
       "afg  | 1806 | 470\n",
       "afg  | 1807 | 470\n",
       "afg  | 1808 | 470\n",
       "afg  | 1809 | 470\n",
       "... (40746 rows omitted)"
      ]
     },
     "execution_count": 11,
     "metadata": {},
     "output_type": "execute_result"
    }
   ],
   "source": [
    "child_mortality"
   ]
  },
  {
   "cell_type": "code",
   "execution_count": 12,
   "metadata": {},
   "outputs": [
    {
     "data": {
      "text/html": [
       "<table border=\"1\" class=\"dataframe\">\n",
       "    <thead>\n",
       "        <tr>\n",
       "            <th>geo</th> <th>time</th> <th>children_per_woman_total_fertility</th>\n",
       "        </tr>\n",
       "    </thead>\n",
       "    <tbody>\n",
       "        <tr>\n",
       "            <td>afg </td> <td>1800</td> <td>7                                 </td>\n",
       "        </tr>\n",
       "        <tr>\n",
       "            <td>afg </td> <td>1801</td> <td>7                                 </td>\n",
       "        </tr>\n",
       "        <tr>\n",
       "            <td>afg </td> <td>1802</td> <td>7                                 </td>\n",
       "        </tr>\n",
       "        <tr>\n",
       "            <td>afg </td> <td>1803</td> <td>7                                 </td>\n",
       "        </tr>\n",
       "        <tr>\n",
       "            <td>afg </td> <td>1804</td> <td>7                                 </td>\n",
       "        </tr>\n",
       "        <tr>\n",
       "            <td>afg </td> <td>1805</td> <td>7                                 </td>\n",
       "        </tr>\n",
       "        <tr>\n",
       "            <td>afg </td> <td>1806</td> <td>7                                 </td>\n",
       "        </tr>\n",
       "        <tr>\n",
       "            <td>afg </td> <td>1807</td> <td>7                                 </td>\n",
       "        </tr>\n",
       "        <tr>\n",
       "            <td>afg </td> <td>1808</td> <td>7                                 </td>\n",
       "        </tr>\n",
       "        <tr>\n",
       "            <td>afg </td> <td>1809</td> <td>7                                 </td>\n",
       "        </tr>\n",
       "    </tbody>\n",
       "</table>\n",
       "<p>... (43402 rows omitted)</p>"
      ],
      "text/plain": [
       "geo  | time | children_per_woman_total_fertility\n",
       "afg  | 1800 | 7\n",
       "afg  | 1801 | 7\n",
       "afg  | 1802 | 7\n",
       "afg  | 1803 | 7\n",
       "afg  | 1804 | 7\n",
       "afg  | 1805 | 7\n",
       "afg  | 1806 | 7\n",
       "afg  | 1807 | 7\n",
       "afg  | 1808 | 7\n",
       "afg  | 1809 | 7\n",
       "... (43402 rows omitted)"
      ]
     },
     "execution_count": 12,
     "metadata": {},
     "output_type": "execute_result"
    }
   ],
   "source": [
    "fertility"
   ]
  },
  {
   "cell_type": "markdown",
   "metadata": {
    "deletable": false,
    "editable": false
   },
   "source": [
    "**Question 3.** Perhaps population is growing more slowly because people aren't living as long. Use the `life_expectancy` table to draw a line graph with the years 1970 and later on the horizontal axis that shows how the *life expectancy at birth* has changed in Bangladesh.\n",
    "\n",
    "<!--\n",
    "BEGIN QUESTION\n",
    "name: q1_3\n",
    "manual: true\n",
    "-->\n",
    "<!-- EXPORT TO PDF -->"
   ]
  },
  {
   "cell_type": "code",
   "execution_count": 13,
   "metadata": {
    "deletable": false,
    "export_pdf": true,
    "manual_grade": true,
    "manual_problem_id": "global_pop_3"
   },
   "outputs": [
    {
     "data": {
      "image/png": "[encoded data removed]",
      "text/plain": [
       "<Figure size 432x288 with 1 Axes>"
      ]
     },
     "metadata": {},
     "output_type": "display_data"
    }
   ],
   "source": [
    "#Fill in code here\n",
    "life_expectancy.where('geo', are.equal_to(\"bgd\")).where(\"time\", are.above(\n",
    "    1969)).plot(\"time\", \"life_expectancy_years\")"
   ]
  },
  {
   "cell_type": "markdown",
   "metadata": {
    "deletable": false,
    "editable": false
   },
   "source": [
    "**Question 4.** Assuming everything else stays the same, do the trends in life expectancy in the graph above directly explain why the population growth rate decreased from 1985 to 2010 in Bangladesh? Why or why not? \n",
    "\n",
    "Hint: What happened in Bangladesh in 1991, and does that event explain the overall change in population growth rate?\n",
    "\n",
    "<!--\n",
    "BEGIN QUESTION\n",
    "name: q1_4\n",
    "manual: true\n",
    "-->\n",
    "<!-- EXPORT TO PDF -->"
   ]
  },
  {
   "cell_type": "markdown",
   "metadata": {
    "collapsed": true,
    "deletable": false,
    "export_pdf": true,
    "manual_grade": true,
    "manual_problem_id": "global_pop_4"
   },
   "source": [
    "In 1991, Bangladesh was devastated by a destructive cyclone that wiped out nearly 140,000 people and left 10 million others homeless. As an added note, some of those that were homeless may have ended up dying as well. This helps to explain why there was such a big drop in the population that year and by extension the population growth rate. In terms of the graph we just created, it makes sense that as time goes on the life expectancy increases. There are obviously many reasons that are attributed to this, but some that come to mind are advancements in fields like technology and healthcare. Despite the trend of the graph making sense, it only really illustrates the relationship of life expectancy over time not the population growth rate. "
   ]
  },
  {
   "cell_type": "markdown",
   "metadata": {
    "deletable": false,
    "editable": false
   },
   "source": [
    "The `fertility` table contains a statistic that is often used to measure how many babies are being born, the *total fertility rate*. This number describes the [number of children a woman would have in her lifetime](https://www.measureevaluation.org/prh/rh_indicators/specific/fertility/total-fertility-rate), on average, if the current rates of birth by age of the mother persisted throughout her child bearing years, assuming she survived through age 49. "
   ]
  },
  {
   "cell_type": "markdown",
   "metadata": {
    "deletable": false,
    "editable": false
   },
   "source": [
    "**Question 5.** Write a function `fertility_over_time` that takes the Alpha-3 code of a `country` and a `start` year. It returns a two-column table with labels `Year` and `Children per woman` that can be used to generate a line chart of the country's fertility rate each year, starting at the `start` year. The plot should include the `start` year and all later years that appear in the `fertility` table. \n",
    "\n",
    "Then, in the next cell, call your `fertility_over_time` function on the Alpha-3 code for Bangladesh and the year 1970 in order to plot how Bangladesh's fertility rate has changed since 1970. Note that the function `fertility_over_time` should not return the plot itself. **The expression that draws the line plot is provided for you; please don't change it.**\n",
    "\n",
    "<!--\n",
    "BEGIN QUESTION\n",
    "name: q1_5\n",
    "-->"
   ]
  },
  {
   "cell_type": "code",
   "execution_count": 14,
   "metadata": {
    "deletable": false
   },
   "outputs": [
    {
     "data": {
      "image/png": "[encoded data removed]",
      "text/plain": [
       "<Figure size 432x288 with 1 Axes>"
      ]
     },
     "metadata": {},
     "output_type": "display_data"
    }
   ],
   "source": [
    "def fertility_over_time(country, start):\n",
    "    \"\"\"Create a two-column table that describes a country's total fertility rate each year.\"\"\"\n",
    "    cleaned_table = fertility.where(\"geo\", are.equal_to(country)).where(\"time\", are.above_or_equal_to(start)).relabel(\"time\", \"Year\").relabel(\"children_per_woman_total_fertility\", \"Children per woman\").drop(\"geo\")\n",
    "    return cleaned_table\n",
    "\n",
    "bangladesh_code = \"bgd\"\n",
    "fertility_over_time(bangladesh_code, 1970).plot(0, 1) # You should *not* change this line."
   ]
  },
  {
   "cell_type": "code",
   "execution_count": 15,
   "metadata": {
    "deletable": false,
    "editable": false
   },
   "outputs": [
    {
     "name": "stdout",
     "output_type": "stream",
     "text": [
      "~~~~~~~~~~~~~~~~~~~~~~~~~~~~~~~~~~~~~~~~~~~~~~~~~~~~~~~~~~~~~~~~~~~~~\n",
      "Running tests\n",
      "\n",
      "---------------------------------------------------------------------\n",
      "Test summary\n",
      "    Passed: 3\n",
      "    Failed: 0\n",
      "[ooooooooook] 100.0% passed\n",
      "\n"
     ]
    }
   ],
   "source": [
    "ok.grade(\"q1_5\");"
   ]
  },
  {
   "cell_type": "markdown",
   "metadata": {
    "deletable": false,
    "editable": false
   },
   "source": [
    "**Question 6.** Assuming everything else is constant, do the trends in fertility in the graph above help directly explain why the population growth rate decreased from 1985 to 2010 in Bangladesh? Why or why not?\n",
    "\n",
    "<!--\n",
    "BEGIN QUESTION\n",
    "name: q1_6\n",
    "manual: true\n",
    "-->\n",
    "<!-- EXPORT TO PDF -->"
   ]
  },
  {
   "cell_type": "markdown",
   "metadata": {
    "deletable": false,
    "export_pdf": true,
    "manual_grade": true,
    "manual_problem_id": "global_pop_6"
   },
   "source": [
    "The fertility graph does help directly explain why the population growth rate decreased from 1985 to 2010 because lower fertility rate means less children/babies introduced into the world thereby a lower population. The graph illustrates a general downward trend since the 1970's, which shows us that as time progressed parents chose to have less kids because they 1) believed their children would survive into adulthood and 2) life expectancy was still increasing (can be seen previously). Therein, less births and babies into the world correlates to less people introduced to the population, which then correlates to the decreased population growth rate from 1985 to 2010 in Bangladesh."
   ]
  },
  {
   "cell_type": "markdown",
   "metadata": {
    "deletable": false,
    "editable": false
   },
   "source": [
    "It has been observed that lower fertility rates are often associated with lower child mortality rates. The link has been attributed to family planning: if parents can expect that their children will all survive into adulthood, then they will choose to have fewer children. We can see if this association is evident in Bangladesh by plotting the relationship between total fertility rate and [child mortality rate per 1000 children](https://en.wikipedia.org/wiki/Child_mortality)."
   ]
  },
  {
   "cell_type": "markdown",
   "metadata": {
    "deletable": false,
    "editable": false
   },
   "source": [
    "**Question 7.** Using both the `fertility` and `child_mortality` tables, draw a scatter diagram that has Bangladesh's total fertility on the horizontal axis and its child mortality on the vertical axis with one point for each year, starting with 1970.\n",
    "\n",
    "**The expression that draws the scatter diagram is provided for you; please don't change it.** Instead, create a table called `post_1969_fertility_and_child_mortality` with the appropriate column labels and data in order to generate the chart correctly. Use the label `Children per woman` to describe total fertility and the label `Child deaths per 1000 born` to describe child mortality.\n",
    "\n",
    "<!--\n",
    "BEGIN QUESTION\n",
    "name: q1_7\n",
    "manual: false\n",
    "-->"
   ]
  },
  {
   "cell_type": "code",
   "execution_count": 16,
   "metadata": {},
   "outputs": [
    {
     "data": {
      "text/html": [
       "<table border=\"1\" class=\"dataframe\">\n",
       "    <thead>\n",
       "        <tr>\n",
       "            <th>time</th> <th>geo</th> <th>Child deaths per 1000 born</th> <th>Children per woman</th>\n",
       "        </tr>\n",
       "    </thead>\n",
       "    <tbody>\n",
       "        <tr>\n",
       "            <td>1970</td> <td>bgd </td> <td>224.1                     </td> <td>6.95              </td>\n",
       "        </tr>\n",
       "        <tr>\n",
       "            <td>1971</td> <td>bgd </td> <td>223                       </td> <td>6.94              </td>\n",
       "        </tr>\n",
       "        <tr>\n",
       "            <td>1972</td> <td>bgd </td> <td>222                       </td> <td>6.93              </td>\n",
       "        </tr>\n",
       "        <tr>\n",
       "            <td>1973</td> <td>bgd </td> <td>220.7                     </td> <td>6.9               </td>\n",
       "        </tr>\n",
       "        <tr>\n",
       "            <td>1974</td> <td>bgd </td> <td>219.1                     </td> <td>6.87              </td>\n",
       "        </tr>\n",
       "        <tr>\n",
       "            <td>1975</td> <td>bgd </td> <td>217.1                     </td> <td>6.82              </td>\n",
       "        </tr>\n",
       "        <tr>\n",
       "            <td>1976</td> <td>bgd </td> <td>214.5                     </td> <td>6.76              </td>\n",
       "        </tr>\n",
       "        <tr>\n",
       "            <td>1977</td> <td>bgd </td> <td>211.2                     </td> <td>6.68              </td>\n",
       "        </tr>\n",
       "        <tr>\n",
       "            <td>1978</td> <td>bgd </td> <td>207.4                     </td> <td>6.59              </td>\n",
       "        </tr>\n",
       "        <tr>\n",
       "            <td>1979</td> <td>bgd </td> <td>203.3                     </td> <td>6.48              </td>\n",
       "        </tr>\n",
       "    </tbody>\n",
       "</table>\n",
       "<p>... (36 rows omitted)</p>"
      ],
      "text/plain": [
       "time | geo  | Child deaths per 1000 born | Children per woman\n",
       "1970 | bgd  | 224.1                      | 6.95\n",
       "1971 | bgd  | 223                        | 6.94\n",
       "1972 | bgd  | 222                        | 6.93\n",
       "1973 | bgd  | 220.7                      | 6.9\n",
       "1974 | bgd  | 219.1                      | 6.87\n",
       "1975 | bgd  | 217.1                      | 6.82\n",
       "1976 | bgd  | 214.5                      | 6.76\n",
       "1977 | bgd  | 211.2                      | 6.68\n",
       "1978 | bgd  | 207.4                      | 6.59\n",
       "1979 | bgd  | 203.3                      | 6.48\n",
       "... (36 rows omitted)"
      ]
     },
     "execution_count": 16,
     "metadata": {},
     "output_type": "execute_result"
    }
   ],
   "source": [
    "bgd_fertility = fertility.where(\"geo\", are.equal_to(\"bgd\")).where('time', are.above(1969))\n",
    "bgd_child_mortality = child_mortality.where(\"geo\", are.equal_to(\"bgd\")).where(\"time\", are.above(1969))\n",
    "fertility_and_child_mortality = bgd_child_mortality.join(\"time\", bgd_fertility)\n",
    "post_1969_fertility_and_child_mortality = fertility_and_child_mortality.relabel(\"child_mortality_under_5_per_1000_born\", \"Child deaths per 1000 born\").relabel(\"children_per_woman_total_fertility\", \"Children per woman\").drop(\"geo_2\")\n",
    "post_1969_fertility_and_child_mortality"
   ]
  },
  {
   "cell_type": "code",
   "execution_count": 17,
   "metadata": {
    "deletable": false
   },
   "outputs": [
    {
     "data": {
      "image/png": "[encoded data removed]",
      "text/plain": [
       "<Figure size 360x360 with 1 Axes>"
      ]
     },
     "metadata": {},
     "output_type": "display_data"
    }
   ],
   "source": [
    "bgd_fertility = fertility.where(\"geo\", are.equal_to(\"bgd\")).where('time', are.above(1969))\n",
    "bgd_child_mortality = child_mortality.where(\"geo\", are.equal_to(\"bgd\")).where(\"time\", are.above(1969))\n",
    "fertility_and_child_mortality = bgd_child_mortality.join(\"time\", bgd_fertility)\n",
    "post_1969_fertility_and_child_mortality = fertility_and_child_mortality.relabel(\"child_mortality_under_5_per_1000_born\", \"Child deaths per 1000 born\").relabel(\"children_per_woman_total_fertility\", \"Children per woman\").drop(\"geo_2\")\n",
    "\n",
    "post_1969_fertility_and_child_mortality.scatter('Children per woman', 'Child deaths per 1000 born') # You should *not* change this line."
   ]
  },
  {
   "cell_type": "code",
   "execution_count": 18,
   "metadata": {
    "deletable": false,
    "editable": false
   },
   "outputs": [
    {
     "name": "stdout",
     "output_type": "stream",
     "text": [
      "~~~~~~~~~~~~~~~~~~~~~~~~~~~~~~~~~~~~~~~~~~~~~~~~~~~~~~~~~~~~~~~~~~~~~\n",
      "Running tests\n",
      "\n",
      "---------------------------------------------------------------------\n",
      "Test summary\n",
      "    Passed: 2\n",
      "    Failed: 0\n",
      "[ooooooooook] 100.0% passed\n",
      "\n"
     ]
    }
   ],
   "source": [
    "ok.grade(\"q1_7\");"
   ]
  },
  {
   "cell_type": "markdown",
   "metadata": {
    "deletable": false,
    "editable": false
   },
   "source": [
    "**Question 8.** In one or two sentences, describe the association (if any) that is illustrated by this scatter diagram. Does the diagram show that reduced child mortality causes parents to choose to have fewer children?\n",
    "\n",
    "<!--\n",
    "BEGIN QUESTION\n",
    "name: q1_8\n",
    "manual: true\n",
    "-->\n",
    "<!-- EXPORT TO PDF -->"
   ]
  },
  {
   "cell_type": "markdown",
   "metadata": {
    "deletable": false,
    "export_pdf": true,
    "manual_grade": true,
    "manual_problem_id": "global_pop_8"
   },
   "source": [
    "There is a fairly strong association between the children per woman and the child deaths per 1000 born. However, the diagram can not definitively say that reduced child mortality \"causes\" parents to choose to have fewer children."
   ]
  },
  {
   "cell_type": "markdown",
   "metadata": {},
   "source": [
    "### Checkpoint (due Friday 2/21)\n",
    "#### Congratulations, you have reached the checkpoint! Run the submit cell below to generate the checkpoint submission."
   ]
  },
  {
   "cell_type": "code",
   "execution_count": 19,
   "metadata": {},
   "outputs": [
    {
     "data": {
      "application/javascript": [
       "IPython.notebook.save_checkpoint();"
      ],
      "text/plain": [
       "<IPython.core.display.Javascript object>"
      ]
     },
     "metadata": {},
     "output_type": "display_data"
    },
    {
     "data": {
      "application/javascript": [
       "IPython.notebook.save_notebook();"
      ],
      "text/plain": [
       "<IPython.core.display.Javascript object>"
      ]
     },
     "metadata": {},
     "output_type": "display_data"
    },
    {
     "name": "stdout",
     "output_type": "stream",
     "text": [
      "Saving notebook... Saved 'project1.ipynb'.\n",
      "Submit... 0.0% complete\n",
      "Could not submit: Late Submission of cal/data8/sp20/project1\n",
      "Backup... 100% complete\n",
      "Backup past deadline by 270 days, 18 hours, 36 minutes, and 8 seconds\n",
      "\n"
     ]
    }
   ],
   "source": [
    "_ = ok.submit()"
   ]
  },
  {
   "cell_type": "markdown",
   "metadata": {
    "deletable": false,
    "editable": false
   },
   "source": [
    "### The World\n",
    "\n",
    "The change observed in Bangladesh since 1970 can also be observed in many other developing countries: health services improve, life expectancy increases, and child mortality decreases. At the same time, the fertility rate often plummets, and so the population growth rate decreases despite increasing longevity."
   ]
  },
  {
   "cell_type": "markdown",
   "metadata": {
    "deletable": false,
    "editable": false
   },
   "source": [
    "Run the cell below to generate two overlaid histograms, one for 1960 and one for 2010, that show the distributions of total fertility rates for these two years among all 201 countries in the `fertility` table."
   ]
  },
  {
   "cell_type": "code",
   "execution_count": 20,
   "metadata": {
    "deletable": false
   },
   "outputs": [
    {
     "data": {
      "image/png": "[encoded data removed]",
      "text/plain": [
       "<Figure size 432x288 with 1 Axes>"
      ]
     },
     "metadata": {},
     "output_type": "display_data"
    }
   ],
   "source": [
    "Table().with_columns(\n",
    "    '1960', fertility.where('time', 1960).column(2),\n",
    "    '2010', fertility.where('time', 2010).column(2)\n",
    ").hist(bins=np.arange(0, 10, 0.5), unit='child per woman')\n",
    "_ = plots.xlabel('Children per woman')\n",
    "_ = plots.ylabel('Percent per children per woman')\n",
    "_ = plots.xticks(np.arange(10))"
   ]
  },
  {
   "cell_type": "markdown",
   "metadata": {
    "deletable": false,
    "editable": false
   },
   "source": [
    "**Question 9.** Assign `fertility_statements` to an array of the numbers of each statement below that can be correctly inferred from these histograms.\n",
    "1. About the same number of countries had a fertility rate between 3.5 and 4.5 in both 1960 and 2010.\n",
    "1. In 2010, about 40% of countries had a fertility rate between 1.5 and 2.\n",
    "1. In 1960, less than 20% of countries had a fertility rate below 3.\n",
    "1. More countries had a fertility rate above 3 in 1960 than in 2010.\n",
    "1. At least half of countries had a fertility rate between 5 and 8 in 1960.\n",
    "1. At least half of countries had a fertility rate below 3 in 2010.\n",
    "\n",
    "<!--\n",
    "BEGIN QUESTION\n",
    "name: q1_9\n",
    "-->"
   ]
  },
  {
   "cell_type": "code",
   "execution_count": 21,
   "metadata": {
    "deletable": false
   },
   "outputs": [],
   "source": [
    "fertility_statements = make_array(1, 3, 4, 5, 6)"
   ]
  },
  {
   "cell_type": "code",
   "execution_count": 22,
   "metadata": {
    "deletable": false,
    "editable": false
   },
   "outputs": [
    {
     "name": "stdout",
     "output_type": "stream",
     "text": [
      "~~~~~~~~~~~~~~~~~~~~~~~~~~~~~~~~~~~~~~~~~~~~~~~~~~~~~~~~~~~~~~~~~~~~~\n",
      "Running tests\n",
      "\n",
      "---------------------------------------------------------------------\n",
      "Test summary\n",
      "    Passed: 1\n",
      "    Failed: 0\n",
      "[ooooooooook] 100.0% passed\n",
      "\n"
     ]
    }
   ],
   "source": [
    "ok.grade(\"q1_9\");"
   ]
  },
  {
   "cell_type": "markdown",
   "metadata": {
    "deletable": false,
    "editable": false
   },
   "source": [
    "**Question 10.** Draw a line plot of the world population from 1800 through 2005. The world population is the sum of all the country's populations. \n",
    "\n",
    "<!--\n",
    "BEGIN QUESTION\n",
    "name: q1_10\n",
    "manual: true\n",
    "-->\n",
    "<!-- EXPORT TO PDF -->"
   ]
  },
  {
   "cell_type": "code",
   "execution_count": 23,
   "metadata": {
    "deletable": false,
    "export_pdf": true,
    "manual_grade": true,
    "manual_problem_id": "global_pop_10"
   },
   "outputs": [
    {
     "ename": "TypeError",
     "evalue": "group() takes from 2 to 3 positional arguments but 4 were given",
     "output_type": "error",
     "traceback": [
      "\u001b[0;31m---------------------------------------------------------------------------\u001b[0m",
      "\u001b[0;31mTypeError\u001b[0m                                 Traceback (most recent call last)",
      "\u001b[0;32m<ipython-input-23-7da8f908ee10>\u001b[0m in \u001b[0;36m<module>\u001b[0;34m\u001b[0m\n\u001b[1;32m      1\u001b[0m \u001b[0;31m#Fill in code here\u001b[0m\u001b[0;34m\u001b[0m\u001b[0;34m\u001b[0m\u001b[0;34m\u001b[0m\u001b[0m\n\u001b[0;32m----> 2\u001b[0;31m population.where('time', are.between(1800, 2006)).drop('geo').group('time',\n\u001b[0m\u001b[1;32m      3\u001b[0m                 'time', \"population_total sum\")\n",
      "\u001b[0;31mTypeError\u001b[0m: group() takes from 2 to 3 positional arguments but 4 were given"
     ]
    }
   ],
   "source": [
    "#Fill in code here\n",
    "population.where('time', are.between(1800, 2006)).drop('geo').group('time',\n",
    "                'time', \"population_total sum\")"
   ]
  },
  {
   "cell_type": "markdown",
   "metadata": {
    "deletable": false,
    "editable": false
   },
   "source": [
    "**Question 11.** Create a function `stats_for_year` that takes a `year` and returns a table of statistics. The table it returns should have four columns: `geo`, `population_total`, `children_per_woman_total_fertility`, and `child_mortality_under_5_per_1000_born`. Each row should contain one Alpha-3 country code and three statistics: population, fertility rate, and child mortality for that `year` from the `population`, `fertility` and `child_mortality` tables. Only include rows for which all three statistics are available for the country and year.\n",
    "\n",
    "In addition, restrict the result to country codes that appears in `big_50`, an array of the 50 most populous countries in 2010. This restriction will speed up computations later in the project.\n",
    "\n",
    "After you write `stats_for_year`, try calling `stats_for_year` on any year between 1960 and 2010. Try to understand the output of stats_for_year.\n",
    "\n",
    "*Hint*: The tests for this question are quite comprehensive, so if you pass the tests, your function is probably correct. However, without calling your function yourself and looking at the output, it will be very difficult to understand any problems you have, so try your best to write the function correctly and check that it works before you rely on the `ok` tests to confirm your work.\n",
    "\n",
    "<!--\n",
    "BEGIN QUESTION\n",
    "name: q1_11\n",
    "manual: false\n",
    "-->"
   ]
  },
  {
   "cell_type": "code",
   "execution_count": 26,
   "metadata": {
    "deletable": false
   },
   "outputs": [],
   "source": [
    "# We first create a population table that only includes the \n",
    "# 50 countries with the largest 2010 populations. We focus on \n",
    "# these 50 countries only so that plotting later will run faster.\n",
    "big_50 = population.where('time', are.equal_to(2010)).sort(\"population_total\", descending=True).take(np.arange(50)).column('geo')\n",
    "population_of_big_50 = population.where('time', are.above(1959)).where('geo', are.contained_in(big_50))\n",
    "\n",
    "def stats_for_year(year):\n",
    "    \"\"\"Return a table of the stats for each country that year.\"\"\"\n",
    "    p = population_of_big_50.where('time', are.equal_to(year)).drop('time')\n",
    "    f = fertility.where('time', are.equal_to(year)).drop('time')\n",
    "    c = child_mortality.where('time', are.equal_to(year)).drop('time')\n",
    "    return p.join(\"geo\", f).join(\"geo\", c)"
   ]
  },
  {
   "cell_type": "code",
   "execution_count": 27,
   "metadata": {
    "deletable": false,
    "editable": false
   },
   "outputs": [
    {
     "name": "stdout",
     "output_type": "stream",
     "text": [
      "~~~~~~~~~~~~~~~~~~~~~~~~~~~~~~~~~~~~~~~~~~~~~~~~~~~~~~~~~~~~~~~~~~~~~\n",
      "Running tests\n",
      "\n",
      "---------------------------------------------------------------------\n",
      "Test summary\n",
      "    Passed: 4\n",
      "    Failed: 0\n",
      "[ooooooooook] 100.0% passed\n",
      "\n"
     ]
    }
   ],
   "source": [
    "ok.grade(\"q1_11\");"
   ]
  },
  {
   "cell_type": "markdown",
   "metadata": {
    "deletable": false,
    "editable": false
   },
   "source": [
    "**Question 12.** Create a table called `pop_by_decade` with two columns called `decade` and `population`. It has a row for each `year` since 1960 that starts a decade. The `population` column contains the total population of all countries included in the result of `stats_for_year(year)` for the first `year` of the decade. For example, 1960 is the first year of the 1960's decade. You should see that these countries contain most of the world's population.\n",
    "\n",
    "*Hint:* One approach is to define a function `pop_for_year` that computes this total population, then `apply` it to the `decade` column.  The `stats_for_year` function from the previous question may be useful here.\n",
    "\n",
    "This first test is just a sanity check for your helper function if you choose to use it. You will not lose points for not implementing the function `pop_for_year`.\n",
    "\n",
    "**Note:** The cell where you will generate the `pop_by_decade` table is below the cell where you can choose to define the helper function `pop_for_year`. You should define your `pop_by_decade` table in the cell that starts with the table `decades` being defined. \n",
    "\n",
    "<!--\n",
    "BEGIN QUESTION\n",
    "name: q1_12_0\n",
    "manual: false\n",
    "points: 0\n",
    "-->"
   ]
  },
  {
   "cell_type": "code",
   "execution_count": 28,
   "metadata": {},
   "outputs": [],
   "source": [
    "def pop_for_year(year):\n",
    "    total_pop = stats_for_year(year).column(\"population_total\").sum()\n",
    "    return total_pop"
   ]
  },
  {
   "cell_type": "code",
   "execution_count": 29,
   "metadata": {
    "deletable": false,
    "editable": false
   },
   "outputs": [
    {
     "name": "stdout",
     "output_type": "stream",
     "text": [
      "~~~~~~~~~~~~~~~~~~~~~~~~~~~~~~~~~~~~~~~~~~~~~~~~~~~~~~~~~~~~~~~~~~~~~\n",
      "Running tests\n",
      "\n",
      "---------------------------------------------------------------------\n",
      "Test summary\n",
      "    Passed: 3\n",
      "    Failed: 0\n",
      "[ooooooooook] 100.0% passed\n",
      "\n"
     ]
    }
   ],
   "source": [
    "ok.grade(\"q1_12_0\");"
   ]
  },
  {
   "cell_type": "markdown",
   "metadata": {
    "deletable": false,
    "editable": false
   },
   "source": [
    "Now that you've defined your helper function (if you've chosen to do so), define the `pop_by_decade` table.\n",
    "\n",
    "<!--\n",
    "BEGIN QUESTION\n",
    "name: q1_12\n",
    "manual: false\n",
    "-->"
   ]
  },
  {
   "cell_type": "code",
   "execution_count": 30,
   "metadata": {
    "deletable": false
   },
   "outputs": [
    {
     "data": {
      "text/html": [
       "<table border=\"1\" class=\"dataframe\">\n",
       "    <thead>\n",
       "        <tr>\n",
       "            <th>decade</th> <th>population</th>\n",
       "        </tr>\n",
       "    </thead>\n",
       "    <tbody>\n",
       "        <tr>\n",
       "            <td>1960  </td> <td>2,624,944,597</td>\n",
       "        </tr>\n",
       "        <tr>\n",
       "            <td>1970  </td> <td>3,211,487,418</td>\n",
       "        </tr>\n",
       "        <tr>\n",
       "            <td>1980  </td> <td>3,880,722,003</td>\n",
       "        </tr>\n",
       "        <tr>\n",
       "            <td>1990  </td> <td>4,648,434,558</td>\n",
       "        </tr>\n",
       "        <tr>\n",
       "            <td>2000  </td> <td>5,367,553,063</td>\n",
       "        </tr>\n",
       "        <tr>\n",
       "            <td>2010  </td> <td>6,040,810,517</td>\n",
       "        </tr>\n",
       "    </tbody>\n",
       "</table>"
      ],
      "text/plain": [
       "decade | population\n",
       "1960   | 2,624,944,597\n",
       "1970   | 3,211,487,418\n",
       "1980   | 3,880,722,003\n",
       "1990   | 4,648,434,558\n",
       "2000   | 5,367,553,063\n",
       "2010   | 6,040,810,517"
      ]
     },
     "execution_count": 30,
     "metadata": {},
     "output_type": "execute_result"
    }
   ],
   "source": [
    "decades = Table().with_column('decade', np.arange(1960, 2011, 10))\n",
    "pop_by_decade = decades.with_column(\"population\", decades.apply(pop_for_year, \"decade\"))\n",
    "pop_by_decade.set_format(1, NumberFormatter)"
   ]
  },
  {
   "cell_type": "code",
   "execution_count": 31,
   "metadata": {
    "deletable": false,
    "editable": false
   },
   "outputs": [
    {
     "name": "stdout",
     "output_type": "stream",
     "text": [
      "~~~~~~~~~~~~~~~~~~~~~~~~~~~~~~~~~~~~~~~~~~~~~~~~~~~~~~~~~~~~~~~~~~~~~\n",
      "Running tests\n",
      "\n",
      "---------------------------------------------------------------------\n",
      "Test summary\n",
      "    Passed: 2\n",
      "    Failed: 0\n",
      "[ooooooooook] 100.0% passed\n",
      "\n"
     ]
    }
   ],
   "source": [
    "ok.grade(\"q1_12\");"
   ]
  },
  {
   "cell_type": "markdown",
   "metadata": {
    "deletable": false,
    "editable": false
   },
   "source": [
    "The `countries` table describes various characteristics of countries. The `country` column contains the same codes as the `geo` column in each of the other data tables (`population`, `fertility`, and `child_mortality`). The `world_6region` column classifies each country into a region of the world. Run the cell below to inspect the data."
   ]
  },
  {
   "cell_type": "code",
   "execution_count": 35,
   "metadata": {},
   "outputs": [
    {
     "data": {
      "text/html": [
       "<table border=\"1\" class=\"dataframe\">\n",
       "    <thead>\n",
       "        <tr>\n",
       "            <th>country</th> <th>name</th> <th>world_6region</th>\n",
       "        </tr>\n",
       "    </thead>\n",
       "    <tbody>\n",
       "        <tr>\n",
       "            <td>afg      </td> <td>Afghanistan          </td> <td>south_asia              </td>\n",
       "        </tr>\n",
       "        <tr>\n",
       "            <td>akr_a_dhe</td> <td>Akrotiri and Dhekelia</td> <td>europe_central_asia     </td>\n",
       "        </tr>\n",
       "        <tr>\n",
       "            <td>alb      </td> <td>Albania              </td> <td>europe_central_asia     </td>\n",
       "        </tr>\n",
       "        <tr>\n",
       "            <td>dza      </td> <td>Algeria              </td> <td>middle_east_north_africa</td>\n",
       "        </tr>\n",
       "        <tr>\n",
       "            <td>asm      </td> <td>American Samoa       </td> <td>east_asia_pacific       </td>\n",
       "        </tr>\n",
       "        <tr>\n",
       "            <td>and      </td> <td>Andorra              </td> <td>europe_central_asia     </td>\n",
       "        </tr>\n",
       "        <tr>\n",
       "            <td>ago      </td> <td>Angola               </td> <td>sub_saharan_africa      </td>\n",
       "        </tr>\n",
       "        <tr>\n",
       "            <td>aia      </td> <td>Anguilla             </td> <td>america                 </td>\n",
       "        </tr>\n",
       "        <tr>\n",
       "            <td>atg      </td> <td>Antigua and Barbuda  </td> <td>america                 </td>\n",
       "        </tr>\n",
       "        <tr>\n",
       "            <td>arg      </td> <td>Argentina            </td> <td>america                 </td>\n",
       "        </tr>\n",
       "    </tbody>\n",
       "</table>\n",
       "<p>... (245 rows omitted)</p>"
      ],
      "text/plain": [
       "country   | name                  | world_6region\n",
       "afg       | Afghanistan           | south_asia\n",
       "akr_a_dhe | Akrotiri and Dhekelia | europe_central_asia\n",
       "alb       | Albania               | europe_central_asia\n",
       "dza       | Algeria               | middle_east_north_africa\n",
       "asm       | American Samoa        | east_asia_pacific\n",
       "and       | Andorra               | europe_central_asia\n",
       "ago       | Angola                | sub_saharan_africa\n",
       "aia       | Anguilla              | america\n",
       "atg       | Antigua and Barbuda   | america\n",
       "arg       | Argentina             | america\n",
       "... (245 rows omitted)"
      ]
     },
     "execution_count": 35,
     "metadata": {},
     "output_type": "execute_result"
    }
   ],
   "source": [
    "countries = Table.read_table('countries.csv').where('country', are.contained_in(population.group('geo').column('geo')))\n",
    "countries.select('country', 'name', 'world_6region')"
   ]
  },
  {
   "cell_type": "markdown",
   "metadata": {
    "deletable": false,
    "editable": false
   },
   "source": [
    "**Question 13.** Create a table called `region_counts` that has two columns, `region` and `count`. It should contain two columns: a region column and a count column that contains the number of countries in each region that appear in the result of `stats_for_year(1960)`. For example, one row would have `south_asia` as its `world_6region` value and an integer as its `count` value: the number of large South Asian countries for which we have population, fertility, and child mortality numbers from 1960.\n",
    "\n",
    "<!--\n",
    "BEGIN QUESTION\n",
    "name: q1_13\n",
    "-->"
   ]
  },
  {
   "cell_type": "code",
   "execution_count": 36,
   "metadata": {
    "deletable": false
   },
   "outputs": [
    {
     "data": {
      "text/html": [
       "<table border=\"1\" class=\"dataframe\">\n",
       "    <thead>\n",
       "        <tr>\n",
       "            <th>region</th> <th>count</th>\n",
       "        </tr>\n",
       "    </thead>\n",
       "    <tbody>\n",
       "        <tr>\n",
       "            <td>america                 </td> <td>8    </td>\n",
       "        </tr>\n",
       "        <tr>\n",
       "            <td>east_asia_pacific       </td> <td>10   </td>\n",
       "        </tr>\n",
       "        <tr>\n",
       "            <td>europe_central_asia     </td> <td>10   </td>\n",
       "        </tr>\n",
       "        <tr>\n",
       "            <td>middle_east_north_africa</td> <td>7    </td>\n",
       "        </tr>\n",
       "        <tr>\n",
       "            <td>south_asia              </td> <td>5    </td>\n",
       "        </tr>\n",
       "        <tr>\n",
       "            <td>sub_saharan_africa      </td> <td>10   </td>\n",
       "        </tr>\n",
       "    </tbody>\n",
       "</table>"
      ],
      "text/plain": [
       "region                   | count\n",
       "america                  | 8\n",
       "east_asia_pacific        | 10\n",
       "europe_central_asia      | 10\n",
       "middle_east_north_africa | 7\n",
       "south_asia               | 5\n",
       "sub_saharan_africa       | 10"
      ]
     },
     "execution_count": 36,
     "metadata": {},
     "output_type": "execute_result"
    }
   ],
   "source": [
    "stats_geo = stats_for_year(1960).column(\"geo\")\n",
    "region_counts = countries.where(\"country\", are.contained_in(stats_geo)).group(\"world_6region\").relabel(\"world_6region\", \"region\")\n",
    "region_counts"
   ]
  },
  {
   "cell_type": "code",
   "execution_count": 34,
   "metadata": {
    "deletable": false,
    "editable": false
   },
   "outputs": [
    {
     "name": "stdout",
     "output_type": "stream",
     "text": [
      "~~~~~~~~~~~~~~~~~~~~~~~~~~~~~~~~~~~~~~~~~~~~~~~~~~~~~~~~~~~~~~~~~~~~~\n",
      "Running tests\n",
      "\n",
      "---------------------------------------------------------------------\n",
      "Test summary\n",
      "    Passed: 2\n",
      "    Failed: 0\n",
      "[ooooooooook] 100.0% passed\n",
      "\n"
     ]
    }
   ],
   "source": [
    "ok.grade(\"q1_13\");"
   ]
  },
  {
   "cell_type": "markdown",
   "metadata": {
    "deletable": false,
    "editable": false
   },
   "source": [
    "The following scatter diagram compares total fertility rate and child mortality rate for each country in 1960. The area of each dot represents the population of the country, and the color represents its region of the world. Run the cell. Do you think you can identify any of the dots?"
   ]
  },
  {
   "cell_type": "code",
   "execution_count": 37,
   "metadata": {
    "deletable": false
   },
   "outputs": [
    {
     "data": {
      "image/png": "[encoded data removed]",
      "text/plain": [
       "<Figure size 360x360 with 1 Axes>"
      ]
     },
     "metadata": {},
     "output_type": "display_data"
    }
   ],
   "source": [
    "from functools import lru_cache as cache\n",
    "\n",
    "# This cache annotation makes sure that if the same year\n",
    "# is passed as an argument twice, the work of computing\n",
    "# the result is only carried out once.\n",
    "@cache(None)\n",
    "def stats_relabeled(year):\n",
    "    \"\"\"Relabeled and cached version of stats_for_year.\"\"\"\n",
    "    return stats_for_year(year).relabel(2, 'Children per woman').relabel(3, 'Child deaths per 1000 born')\n",
    "\n",
    "def fertility_vs_child_mortality(year):\n",
    "    \"\"\"Draw a color scatter diagram comparing child mortality and fertility.\"\"\"\n",
    "    with_region = stats_relabeled(year).join('geo', countries.select('country', 'world_6region'), 'country')\n",
    "    with_region.scatter(2, 3, sizes=1, group=4, s=500)\n",
    "    plots.xlim(0,10)\n",
    "    plots.ylim(-50, 500)\n",
    "    plots.title(year)\n",
    "\n",
    "fertility_vs_child_mortality(1960)"
   ]
  },
  {
   "cell_type": "markdown",
   "metadata": {
    "deletable": false,
    "editable": false
   },
   "source": [
    "**Question 14.** Assign `scatter_statements` to an array of the numbers of each statement below that can be inferred from this scatter diagram for 1960. \n",
    "1. As a whole, the `europe_central_asia` region had the lowest child mortality rate.\n",
    "1. The lowest child mortality rate of any country was from an `east_asia_pacific` country.\n",
    "1. Most countries had a fertility rate above 5.\n",
    "1. There was an association between child mortality and fertility.\n",
    "1. The two largest countries by population also had the two highest child mortality rate.\n",
    "\n",
    "<!--\n",
    "BEGIN QUESTION\n",
    "name: q1_14\n",
    "-->"
   ]
  },
  {
   "cell_type": "code",
   "execution_count": 38,
   "metadata": {
    "deletable": false
   },
   "outputs": [],
   "source": [
    "scatter_statements = make_array(1, 3, 4)"
   ]
  },
  {
   "cell_type": "code",
   "execution_count": 39,
   "metadata": {
    "deletable": false,
    "editable": false
   },
   "outputs": [
    {
     "name": "stdout",
     "output_type": "stream",
     "text": [
      "~~~~~~~~~~~~~~~~~~~~~~~~~~~~~~~~~~~~~~~~~~~~~~~~~~~~~~~~~~~~~~~~~~~~~\n",
      "Running tests\n",
      "\n",
      "---------------------------------------------------------------------\n",
      "Test summary\n",
      "    Passed: 1\n",
      "    Failed: 0\n",
      "[ooooooooook] 100.0% passed\n",
      "\n"
     ]
    }
   ],
   "source": [
    "ok.grade(\"q1_14\");"
   ]
  },
  {
   "cell_type": "markdown",
   "metadata": {
    "deletable": false
   },
   "source": [
    "The result of the cell below is interactive. Drag the slider to the right to see how countries have changed over time. You'll find that the great divide between so-called \"Western\" and \"developing\" countries that existed in the 1960's has nearly disappeared. This shift in fertility rates is the reason that the global population is expected to grow more slowly in the 21st century than it did in the 19th and 20th centuries.\n",
    "\n",
    "**Note:** Don't worry if a red warning pops up when running the cell below. You'll still be able to run the cell!"
   ]
  },
  {
   "cell_type": "code",
   "execution_count": 40,
   "metadata": {
    "deletable": false,
    "scrolled": false
   },
   "outputs": [
    {
     "name": "stderr",
     "output_type": "stream",
     "text": [
      "/opt/conda/lib/python3.8/site-packages/datascience/tables.py:193: FutureWarning: Implicit column method lookup is deprecated.\n",
      "  warnings.warn(\"Implicit column method lookup is deprecated.\", FutureWarning)\n"
     ]
    },
    {
     "data": {
      "application/vnd.jupyter.widget-view+json": {
       "model_id": "69fd1916756844c3940644647848c3e6",
       "version_major": 2,
       "version_minor": 0
      },
      "text/plain": [
       "interactive(children=(IntSlider(value=1960, description='year', max=2015, min=1960), Output()), _dom_classes=(…"
      ]
     },
     "metadata": {},
     "output_type": "display_data"
    }
   ],
   "source": [
    "import ipywidgets as widgets\n",
    "\n",
    "# This part takes a few minutes to run because it \n",
    "# computes 55 tables in advance: one for each year.\n",
    "Table().with_column('Year', np.arange(1960, 2016)).apply(stats_relabeled, 'Year')\n",
    "\n",
    "_ = widgets.interact(fertility_vs_child_mortality, \n",
    "                     year=widgets.IntSlider(min=1960, max=2015, value=1960))"
   ]
  },
  {
   "cell_type": "markdown",
   "metadata": {
    "deletable": false,
    "editable": false
   },
   "source": [
    "Now is a great time to take a break and watch the same data presented by [Hans Rosling in a 2010 TEDx talk](https://www.gapminder.org/videos/reducing-child-mortality-a-moral-and-environmental-imperative) with smoother animation and witty commentary."
   ]
  },
  {
   "cell_type": "markdown",
   "metadata": {
    "deletable": false,
    "editable": false
   },
   "source": [
    "## 2. Global Poverty\n"
   ]
  },
  {
   "cell_type": "markdown",
   "metadata": {
    "deletable": false,
    "editable": false
   },
   "source": [
    "In 1800, 85% of the world's 1 billion people lived in *extreme poverty*, defined by the United Nations as \"a condition characterized by severe deprivation of basic human needs, including food, safe drinking water, sanitation facilities, health, shelter, education and information.\" A common measure of extreme poverty is a person living on less than \\$1.25 per day.\n",
    "\n",
    "In 2018, the proportion of people living in extreme poverty was estimated to be 8%. Although the world rate of extreme poverty has declined consistently for hundreds of years, the number of people living in extreme poverty is still over 600 million. The United Nations recently adopted an [ambitious goal](http://www.un.org/sustainabledevelopment/poverty/): \"By 2030, eradicate extreme poverty for all people everywhere.\"\n",
    "In this section, we will examine extreme poverty trends around the world."
   ]
  },
  {
   "cell_type": "markdown",
   "metadata": {
    "deletable": false,
    "editable": false
   },
   "source": [
    "First, load the population and poverty rate by country and year and the country descriptions. While the `population` table has values for every recent year for many countries, the `poverty` table only includes certain years for each country in which a measurement of the rate of extreme poverty was available."
   ]
  },
  {
   "cell_type": "code",
   "execution_count": 42,
   "metadata": {},
   "outputs": [
    {
     "data": {
      "text/html": [
       "<table border=\"1\" class=\"dataframe\">\n",
       "    <thead>\n",
       "        <tr>\n",
       "            <th>geo</th> <th>time</th> <th>extreme_poverty_percent_people_below_125_a_day</th>\n",
       "        </tr>\n",
       "    </thead>\n",
       "    <tbody>\n",
       "        <tr>\n",
       "            <td>alb </td> <td>1996</td> <td>0.2                                           </td>\n",
       "        </tr>\n",
       "        <tr>\n",
       "            <td>alb </td> <td>2002</td> <td>0.73                                          </td>\n",
       "        </tr>\n",
       "        <tr>\n",
       "            <td>alb </td> <td>2004</td> <td>0.53                                          </td>\n",
       "        </tr>\n",
       "        <tr>\n",
       "            <td>alb </td> <td>2005</td> <td>0.44                                          </td>\n",
       "        </tr>\n",
       "        <tr>\n",
       "            <td>alb </td> <td>2008</td> <td>0.2                                           </td>\n",
       "        </tr>\n",
       "        <tr>\n",
       "            <td>alb </td> <td>2012</td> <td>0.46                                          </td>\n",
       "        </tr>\n",
       "        <tr>\n",
       "            <td>dza </td> <td>1988</td> <td>7.1                                           </td>\n",
       "        </tr>\n",
       "        <tr>\n",
       "            <td>dza </td> <td>1995</td> <td>6.38                                          </td>\n",
       "        </tr>\n",
       "        <tr>\n",
       "            <td>ago </td> <td>2000</td> <td>54.31                                         </td>\n",
       "        </tr>\n",
       "        <tr>\n",
       "            <td>ago </td> <td>2009</td> <td>43.37                                         </td>\n",
       "        </tr>\n",
       "    </tbody>\n",
       "</table>\n",
       "<p>... (1089 rows omitted)</p>"
      ],
      "text/plain": [
       "geo  | time | extreme_poverty_percent_people_below_125_a_day\n",
       "alb  | 1996 | 0.2\n",
       "alb  | 2002 | 0.73\n",
       "alb  | 2004 | 0.53\n",
       "alb  | 2005 | 0.44\n",
       "alb  | 2008 | 0.2\n",
       "alb  | 2012 | 0.46\n",
       "dza  | 1988 | 7.1\n",
       "dza  | 1995 | 6.38\n",
       "ago  | 2000 | 54.31\n",
       "ago  | 2009 | 43.37\n",
       "... (1089 rows omitted)"
      ]
     },
     "execution_count": 42,
     "metadata": {},
     "output_type": "execute_result"
    }
   ],
   "source": [
    "population = Table.read_table('population.csv')\n",
    "countries = Table.read_table('countries.csv').where('country', are.contained_in(population.group('geo').column('geo')))\n",
    "poverty = Table.read_table('poverty.csv')\n",
    "poverty"
   ]
  },
  {
   "cell_type": "markdown",
   "metadata": {
    "deletable": false,
    "editable": false
   },
   "source": [
    "**Question 1.** Assign `latest_poverty` to a three-column table with one row for each country that appears in the `poverty` table. The first column should contain the 3-letter code for the country. The second column should contain the most recent year for which an extreme poverty rate is available for the country. The third column should contain the poverty rate in that year. **Do not change the last line, so that the labels of your table are set correctly.**\n",
    "\n",
    "*Hint*: think about how ```group``` works: it does a sequential search of the table (from top to bottom) and collects values in the array in the order in which they appear, and then applies a function to that array. The `first` function may be helpful, but you are not required to use it.\n",
    "\n",
    "<!--\n",
    "BEGIN QUESTION\n",
    "name: q2_1\n",
    "-->"
   ]
  },
  {
   "cell_type": "code",
   "execution_count": 43,
   "metadata": {
    "deletable": false
   },
   "outputs": [
    {
     "data": {
      "text/html": [
       "<table border=\"1\" class=\"dataframe\">\n",
       "    <thead>\n",
       "        <tr>\n",
       "            <th>geo</th> <th>time</th> <th>poverty_percent</th>\n",
       "        </tr>\n",
       "    </thead>\n",
       "    <tbody>\n",
       "        <tr>\n",
       "            <td>ago </td> <td>2009</td> <td>43.37          </td>\n",
       "        </tr>\n",
       "        <tr>\n",
       "            <td>alb </td> <td>2012</td> <td>0.46           </td>\n",
       "        </tr>\n",
       "        <tr>\n",
       "            <td>arg </td> <td>2011</td> <td>1.41           </td>\n",
       "        </tr>\n",
       "        <tr>\n",
       "            <td>arm </td> <td>2012</td> <td>1.75           </td>\n",
       "        </tr>\n",
       "        <tr>\n",
       "            <td>aus </td> <td>2003</td> <td>1.36           </td>\n",
       "        </tr>\n",
       "        <tr>\n",
       "            <td>aut </td> <td>2004</td> <td>0.34           </td>\n",
       "        </tr>\n",
       "        <tr>\n",
       "            <td>aze </td> <td>2008</td> <td>0.31           </td>\n",
       "        </tr>\n",
       "        <tr>\n",
       "            <td>bdi </td> <td>2006</td> <td>81.32          </td>\n",
       "        </tr>\n",
       "        <tr>\n",
       "            <td>bel </td> <td>2000</td> <td>0.5            </td>\n",
       "        </tr>\n",
       "        <tr>\n",
       "            <td>ben </td> <td>2012</td> <td>51.61          </td>\n",
       "        </tr>\n",
       "    </tbody>\n",
       "</table>\n",
       "<p>... (135 rows omitted)</p>"
      ],
      "text/plain": [
       "geo  | time | poverty_percent\n",
       "ago  | 2009 | 43.37\n",
       "alb  | 2012 | 0.46\n",
       "arg  | 2011 | 1.41\n",
       "arm  | 2012 | 1.75\n",
       "aus  | 2003 | 1.36\n",
       "aut  | 2004 | 0.34\n",
       "aze  | 2008 | 0.31\n",
       "bdi  | 2006 | 81.32\n",
       "bel  | 2000 | 0.5\n",
       "ben  | 2012 | 51.61\n",
       "... (135 rows omitted)"
      ]
     },
     "execution_count": 43,
     "metadata": {},
     "output_type": "execute_result"
    }
   ],
   "source": [
    "def first(values):\n",
    "    return values.item(0)\n",
    "\n",
    "sorted_poverty = poverty.sort(\"time\", descending=True)\n",
    "latest_poverty = sorted_poverty.group(\"geo\", first)\n",
    "latest_poverty = latest_poverty.relabeled(0, 'geo').relabeled(1, 'time').relabeled(2, 'poverty_percent') # You should *not* change this line.\n",
    "latest_poverty"
   ]
  },
  {
   "cell_type": "code",
   "execution_count": 44,
   "metadata": {
    "deletable": false,
    "editable": false
   },
   "outputs": [
    {
     "name": "stdout",
     "output_type": "stream",
     "text": [
      "~~~~~~~~~~~~~~~~~~~~~~~~~~~~~~~~~~~~~~~~~~~~~~~~~~~~~~~~~~~~~~~~~~~~~\n",
      "Running tests\n",
      "\n",
      "---------------------------------------------------------------------\n",
      "Test summary\n",
      "    Passed: 2\n",
      "    Failed: 0\n",
      "[ooooooooook] 100.0% passed\n",
      "\n"
     ]
    }
   ],
   "source": [
    "ok.grade(\"q2_1\");"
   ]
  },
  {
   "cell_type": "markdown",
   "metadata": {
    "deletable": false,
    "editable": false
   },
   "source": [
    "**Question 2.** Using both `latest_poverty` and `population`, create a four-column table called `recent_poverty_total` with one row for each country in `latest_poverty`. The four columns should have the following labels and contents, in the following order:\n",
    "1. `geo` contains the 3-letter country code,\n",
    "1. `poverty_percent` contains the most recent poverty percent,\n",
    "1. `population_total` contains the population of the country in 2010,\n",
    "1. `poverty_total` contains the number of people in poverty **rounded to the nearest integer**, based on the 2010 population and most recent poverty rate.\n",
    "\n",
    "<!--\n",
    "BEGIN QUESTION\n",
    "name: q2_2\n",
    "-->"
   ]
  },
  {
   "cell_type": "code",
   "execution_count": 45,
   "metadata": {
    "deletable": false
   },
   "outputs": [
    {
     "data": {
      "text/html": [
       "<table border=\"1\" class=\"dataframe\">\n",
       "    <thead>\n",
       "        <tr>\n",
       "            <th>geo</th> <th>poverty_percent</th> <th>population_total</th> <th>poverty_total</th>\n",
       "        </tr>\n",
       "    </thead>\n",
       "    <tbody>\n",
       "        <tr>\n",
       "            <td>ago </td> <td>43.37          </td> <td>21219954        </td> <td>9.20309e+06  </td>\n",
       "        </tr>\n",
       "        <tr>\n",
       "            <td>alb </td> <td>0.46           </td> <td>2901883         </td> <td>13349        </td>\n",
       "        </tr>\n",
       "        <tr>\n",
       "            <td>arg </td> <td>1.41           </td> <td>41222875        </td> <td>581243       </td>\n",
       "        </tr>\n",
       "        <tr>\n",
       "            <td>arm </td> <td>1.75           </td> <td>2963496         </td> <td>51861        </td>\n",
       "        </tr>\n",
       "        <tr>\n",
       "            <td>aus </td> <td>1.36           </td> <td>22162863        </td> <td>301415       </td>\n",
       "        </tr>\n",
       "        <tr>\n",
       "            <td>aut </td> <td>0.34           </td> <td>8391986         </td> <td>28533        </td>\n",
       "        </tr>\n",
       "        <tr>\n",
       "            <td>aze </td> <td>0.31           </td> <td>9099893         </td> <td>28210        </td>\n",
       "        </tr>\n",
       "        <tr>\n",
       "            <td>bdi </td> <td>81.32          </td> <td>9461117         </td> <td>7.69378e+06  </td>\n",
       "        </tr>\n",
       "        <tr>\n",
       "            <td>bel </td> <td>0.5            </td> <td>10929978        </td> <td>54650        </td>\n",
       "        </tr>\n",
       "        <tr>\n",
       "            <td>ben </td> <td>51.61          </td> <td>9509798         </td> <td>4.90801e+06  </td>\n",
       "        </tr>\n",
       "    </tbody>\n",
       "</table>\n",
       "<p>... (135 rows omitted)</p>"
      ],
      "text/plain": [
       "geo  | poverty_percent | population_total | poverty_total\n",
       "ago  | 43.37           | 21219954         | 9.20309e+06\n",
       "alb  | 0.46            | 2901883          | 13349\n",
       "arg  | 1.41            | 41222875         | 581243\n",
       "arm  | 1.75            | 2963496          | 51861\n",
       "aus  | 1.36            | 22162863         | 301415\n",
       "aut  | 0.34            | 8391986          | 28533\n",
       "aze  | 0.31            | 9099893          | 28210\n",
       "bdi  | 81.32           | 9461117          | 7.69378e+06\n",
       "bel  | 0.5             | 10929978         | 54650\n",
       "ben  | 51.61           | 9509798          | 4.90801e+06\n",
       "... (135 rows omitted)"
      ]
     },
     "execution_count": 45,
     "metadata": {},
     "output_type": "execute_result"
    }
   ],
   "source": [
    "population_total = population.where(\"time\", are.equal_to(2010)).drop(\"time\")\n",
    "poverty_and_pop = latest_poverty.drop(\"time\").join(\"geo\", population_total)\n",
    "poverty_total = np.round((poverty_and_pop.column(\"poverty_percent\")*0.01)*(poverty_and_pop.column(\"population_total\")))\n",
    "recent_poverty_total = poverty_and_pop.with_columns(\"poverty_total\", poverty_total)\n",
    "recent_poverty_total"
   ]
  },
  {
   "cell_type": "code",
   "execution_count": 46,
   "metadata": {
    "deletable": false,
    "editable": false
   },
   "outputs": [
    {
     "name": "stdout",
     "output_type": "stream",
     "text": [
      "~~~~~~~~~~~~~~~~~~~~~~~~~~~~~~~~~~~~~~~~~~~~~~~~~~~~~~~~~~~~~~~~~~~~~\n",
      "Running tests\n",
      "\n",
      "---------------------------------------------------------------------\n",
      "Test summary\n",
      "    Passed: 3\n",
      "    Failed: 0\n",
      "[ooooooooook] 100.0% passed\n",
      "\n"
     ]
    }
   ],
   "source": [
    "ok.grade(\"q2_2\");"
   ]
  },
  {
   "cell_type": "markdown",
   "metadata": {
    "deletable": false,
    "editable": false
   },
   "source": [
    "**Question 3.** Assign the name `poverty_percent` to the known percentage of the world’s 2010 population that were living in extreme poverty. Assume that the `poverty_total` numbers in the `recent_poverty_total` table describe **all** people in 2010 living in extreme poverty. You should find a number that is above the 2018 global estimate of 8%, since many country-specific poverty rates are older than 2018.\n",
    "\n",
    "*Hint*: The sum of the `population_total` column in the `recent_poverty_total` table is not the world population, because only a subset of the world's countries are included in the `recent_poverty_total` table (only some countries have known poverty rates). Use the `population` table to compute the world's 2010 total population..\n",
    "\n",
    "<!--\n",
    "BEGIN QUESTION\n",
    "name: q2_3\n",
    "-->"
   ]
  },
  {
   "cell_type": "code",
   "execution_count": 47,
   "metadata": {
    "deletable": false
   },
   "outputs": [
    {
     "data": {
      "text/plain": [
       "14.299370218520854"
      ]
     },
     "execution_count": 47,
     "metadata": {},
     "output_type": "execute_result"
    }
   ],
   "source": [
    "total_2010_pop = sum(population.where('time', are.equal_to(2010)).column(\"population_total\"))\n",
    "poverty_2010_pop = sum(recent_poverty_total.column('poverty_total'))\n",
    "poverty_percent = 100 * poverty_2010_pop/total_2010_pop\n",
    "poverty_percent"
   ]
  },
  {
   "cell_type": "code",
   "execution_count": 48,
   "metadata": {
    "deletable": false,
    "editable": false
   },
   "outputs": [
    {
     "name": "stdout",
     "output_type": "stream",
     "text": [
      "~~~~~~~~~~~~~~~~~~~~~~~~~~~~~~~~~~~~~~~~~~~~~~~~~~~~~~~~~~~~~~~~~~~~~\n",
      "Running tests\n",
      "\n",
      "---------------------------------------------------------------------\n",
      "Test summary\n",
      "    Passed: 1\n",
      "    Failed: 0\n",
      "[ooooooooook] 100.0% passed\n",
      "\n"
     ]
    }
   ],
   "source": [
    "ok.grade(\"q2_3\");"
   ]
  },
  {
   "cell_type": "markdown",
   "metadata": {
    "deletable": false,
    "editable": false
   },
   "source": [
    "The `countries` table includes not only the name and region of countries, but also their positions on the globe."
   ]
  },
  {
   "cell_type": "code",
   "execution_count": 49,
   "metadata": {
    "deletable": false,
    "editable": false
   },
   "outputs": [
    {
     "data": {
      "text/html": [
       "<table border=\"1\" class=\"dataframe\">\n",
       "    <thead>\n",
       "        <tr>\n",
       "            <th>country</th> <th>name</th> <th>world_4region</th> <th>latitude</th> <th>longitude</th>\n",
       "        </tr>\n",
       "    </thead>\n",
       "    <tbody>\n",
       "        <tr>\n",
       "            <td>afg      </td> <td>Afghanistan          </td> <td>asia         </td> <td>33      </td> <td>66       </td>\n",
       "        </tr>\n",
       "        <tr>\n",
       "            <td>akr_a_dhe</td> <td>Akrotiri and Dhekelia</td> <td>europe       </td> <td>nan     </td> <td>nan      </td>\n",
       "        </tr>\n",
       "        <tr>\n",
       "            <td>alb      </td> <td>Albania              </td> <td>europe       </td> <td>41      </td> <td>20       </td>\n",
       "        </tr>\n",
       "        <tr>\n",
       "            <td>dza      </td> <td>Algeria              </td> <td>africa       </td> <td>28      </td> <td>3        </td>\n",
       "        </tr>\n",
       "        <tr>\n",
       "            <td>asm      </td> <td>American Samoa       </td> <td>asia         </td> <td>-11.056 </td> <td>-171.082 </td>\n",
       "        </tr>\n",
       "        <tr>\n",
       "            <td>and      </td> <td>Andorra              </td> <td>europe       </td> <td>42.5078 </td> <td>1.52109  </td>\n",
       "        </tr>\n",
       "        <tr>\n",
       "            <td>ago      </td> <td>Angola               </td> <td>africa       </td> <td>-12.5   </td> <td>18.5     </td>\n",
       "        </tr>\n",
       "        <tr>\n",
       "            <td>aia      </td> <td>Anguilla             </td> <td>americas     </td> <td>18.2167 </td> <td>-63.05   </td>\n",
       "        </tr>\n",
       "        <tr>\n",
       "            <td>atg      </td> <td>Antigua and Barbuda  </td> <td>americas     </td> <td>17.05   </td> <td>-61.8    </td>\n",
       "        </tr>\n",
       "        <tr>\n",
       "            <td>arg      </td> <td>Argentina            </td> <td>americas     </td> <td>-34     </td> <td>-64      </td>\n",
       "        </tr>\n",
       "    </tbody>\n",
       "</table>\n",
       "<p>... (245 rows omitted)</p>"
      ],
      "text/plain": [
       "country   | name                  | world_4region | latitude | longitude\n",
       "afg       | Afghanistan           | asia          | 33       | 66\n",
       "akr_a_dhe | Akrotiri and Dhekelia | europe        | nan      | nan\n",
       "alb       | Albania               | europe        | 41       | 20\n",
       "dza       | Algeria               | africa        | 28       | 3\n",
       "asm       | American Samoa        | asia          | -11.056  | -171.082\n",
       "and       | Andorra               | europe        | 42.5078  | 1.52109\n",
       "ago       | Angola                | africa        | -12.5    | 18.5\n",
       "aia       | Anguilla              | americas      | 18.2167  | -63.05\n",
       "atg       | Antigua and Barbuda   | americas      | 17.05    | -61.8\n",
       "arg       | Argentina             | americas      | -34      | -64\n",
       "... (245 rows omitted)"
      ]
     },
     "execution_count": 49,
     "metadata": {},
     "output_type": "execute_result"
    }
   ],
   "source": [
    "countries.select('country', 'name', 'world_4region', 'latitude', 'longitude')"
   ]
  },
  {
   "cell_type": "markdown",
   "metadata": {
    "deletable": false,
    "editable": false
   },
   "source": [
    "**Question 4.** Using both `countries` and `recent_poverty_total`, create a five-column table called `poverty_map` with one row for every country in `recent_poverty_total`.  The five columns should have the following labels and contents:\n",
    "1. `latitude` contains the country's latitude,\n",
    "1. `longitude` contains the country's longitude,\n",
    "1. `name` contains the country's name,\n",
    "1. `region` contains the country's region from the `world_4region` column of `countries`,\n",
    "1. `poverty_total` contains the country's poverty total.\n",
    "\n",
    "<!--\n",
    "BEGIN QUESTION\n",
    "name: q2_4\n",
    "-->"
   ]
  },
  {
   "cell_type": "code",
   "execution_count": 54,
   "metadata": {
    "deletable": false
   },
   "outputs": [
    {
     "data": {
      "text/html": [
       "<table border=\"1\" class=\"dataframe\">\n",
       "    <thead>\n",
       "        <tr>\n",
       "            <th>latitude</th> <th>longitude</th> <th>name</th> <th>region</th> <th>poverty_total</th>\n",
       "        </tr>\n",
       "    </thead>\n",
       "    <tbody>\n",
       "        <tr>\n",
       "            <td>-12.5   </td> <td>18.5     </td> <td>Angola    </td> <td>africa  </td> <td>9.20309e+06  </td>\n",
       "        </tr>\n",
       "        <tr>\n",
       "            <td>41      </td> <td>20       </td> <td>Albania   </td> <td>europe  </td> <td>13349        </td>\n",
       "        </tr>\n",
       "        <tr>\n",
       "            <td>-34     </td> <td>-64      </td> <td>Argentina </td> <td>americas</td> <td>581243       </td>\n",
       "        </tr>\n",
       "        <tr>\n",
       "            <td>40.25   </td> <td>45       </td> <td>Armenia   </td> <td>europe  </td> <td>51861        </td>\n",
       "        </tr>\n",
       "        <tr>\n",
       "            <td>-25     </td> <td>135      </td> <td>Australia </td> <td>asia    </td> <td>301415       </td>\n",
       "        </tr>\n",
       "        <tr>\n",
       "            <td>47.3333 </td> <td>13.3333  </td> <td>Austria   </td> <td>europe  </td> <td>28533        </td>\n",
       "        </tr>\n",
       "        <tr>\n",
       "            <td>40.5    </td> <td>47.5     </td> <td>Azerbaijan</td> <td>europe  </td> <td>28210        </td>\n",
       "        </tr>\n",
       "        <tr>\n",
       "            <td>-3.5    </td> <td>30       </td> <td>Burundi   </td> <td>africa  </td> <td>7.69378e+06  </td>\n",
       "        </tr>\n",
       "        <tr>\n",
       "            <td>50.75   </td> <td>4.5      </td> <td>Belgium   </td> <td>europe  </td> <td>54650        </td>\n",
       "        </tr>\n",
       "        <tr>\n",
       "            <td>9.5     </td> <td>2.25     </td> <td>Benin     </td> <td>africa  </td> <td>4.90801e+06  </td>\n",
       "        </tr>\n",
       "    </tbody>\n",
       "</table>\n",
       "<p>... (135 rows omitted)</p>"
      ],
      "text/plain": [
       "latitude | longitude | name       | region   | poverty_total\n",
       "-12.5    | 18.5      | Angola     | africa   | 9.20309e+06\n",
       "41       | 20        | Albania    | europe   | 13349\n",
       "-34      | -64       | Argentina  | americas | 581243\n",
       "40.25    | 45        | Armenia    | europe   | 51861\n",
       "-25      | 135       | Australia  | asia     | 301415\n",
       "47.3333  | 13.3333   | Austria    | europe   | 28533\n",
       "40.5     | 47.5      | Azerbaijan | europe   | 28210\n",
       "-3.5     | 30        | Burundi    | africa   | 7.69378e+06\n",
       "50.75    | 4.5       | Belgium    | europe   | 54650\n",
       "9.5      | 2.25      | Benin      | africa   | 4.90801e+06\n",
       "... (135 rows omitted)"
      ]
     },
     "execution_count": 54,
     "metadata": {},
     "output_type": "execute_result"
    }
   ],
   "source": [
    "small_countries = countries.select('country', 'latitude', 'longitude', 'name', 'world_4region').relabeled('world_4region', 'region')\n",
    "small_recent_poverty = recent_poverty_total.select('geo', 'poverty_total')\n",
    "poverty_map = small_countries.join('country', small_recent_poverty, 'geo').drop('country')\n",
    "poverty_map"
   ]
  },
  {
   "cell_type": "code",
   "execution_count": 55,
   "metadata": {
    "deletable": false,
    "editable": false
   },
   "outputs": [
    {
     "name": "stdout",
     "output_type": "stream",
     "text": [
      "~~~~~~~~~~~~~~~~~~~~~~~~~~~~~~~~~~~~~~~~~~~~~~~~~~~~~~~~~~~~~~~~~~~~~\n",
      "Running tests\n",
      "\n",
      "---------------------------------------------------------------------\n",
      "Test summary\n",
      "    Passed: 2\n",
      "    Failed: 0\n",
      "[ooooooooook] 100.0% passed\n",
      "\n"
     ]
    }
   ],
   "source": [
    "ok.grade(\"q2_4\");"
   ]
  },
  {
   "cell_type": "markdown",
   "metadata": {
    "deletable": false,
    "editable": false
   },
   "source": [
    "Run the cell below to draw a map of the world in which the areas of circles represent the number of people living in extreme poverty. Double-click on the map to zoom in."
   ]
  },
  {
   "cell_type": "code",
   "execution_count": 56,
   "metadata": {
    "deletable": false,
    "editable": false
   },
   "outputs": [
    {
     "data": {
      "text/html": [
       "<div style=\"width:100%;\"><div style=\"position:relative;width:100%;height:0;padding-bottom:60%;\"><span style=\"color:#565656\">Make this Notebook Trusted to load map: File -> Trust Notebook</span><iframe src=\"about:blank\" style=\"position:absolute;width:100%;height:100%;left:0;top:0;border:none !important;\" data-html=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 onload=\"this.contentDocument.open();this.contentDocument.write(atob(this.getAttribute('data-html')));this.contentDocument.close();\" allowfullscreen webkitallowfullscreen mozallowfullscreen></iframe></div></div>"
      ],
      "text/plain": [
       "<datascience.maps.Map at 0x7fb860044b20>"
      ]
     },
     "execution_count": 56,
     "metadata": {},
     "output_type": "execute_result"
    }
   ],
   "source": [
    "# It may take a few seconds to generate this map.\n",
    "colors = {'africa': 'blue', 'europe': 'black', 'asia': 'red', 'americas': 'green'}\n",
    "scaled = poverty_map.with_columns(\n",
    "    'poverty_total', 1e-4 * poverty_map.column('poverty_total'),\n",
    "    'region', poverty_map.apply(colors.get, 'region')\n",
    ")\n",
    "Circle.map_table(scaled)"
   ]
  },
  {
   "cell_type": "markdown",
   "metadata": {
    "deletable": false,
    "editable": false
   },
   "source": [
    "Although people live in extreme poverty throughout the world (with more than 5 million in the United States), the largest numbers are in Asia and Africa."
   ]
  },
  {
   "cell_type": "markdown",
   "metadata": {
    "deletable": false,
    "editable": false
   },
   "source": [
    "**Question 5.** Assign `largest` to a two-column table with the `name` (not the 3-letter code) and `poverty_total` of the 10 countries with the largest number of people living in extreme poverty.\n",
    "\n",
    "<!--\n",
    "BEGIN QUESTION\n",
    "name: q2_5\n",
    "-->"
   ]
  },
  {
   "cell_type": "code",
   "execution_count": 61,
   "metadata": {
    "deletable": false
   },
   "outputs": [
    {
     "data": {
      "text/html": [
       "<table border=\"1\" class=\"dataframe\">\n",
       "    <thead>\n",
       "        <tr>\n",
       "            <th>name</th> <th>poverty_total</th>\n",
       "        </tr>\n",
       "    </thead>\n",
       "    <tbody>\n",
       "        <tr>\n",
       "            <td>India           </td> <td>290,881,638.00</td>\n",
       "        </tr>\n",
       "        <tr>\n",
       "            <td>Nigeria         </td> <td>98,891,167.00 </td>\n",
       "        </tr>\n",
       "        <tr>\n",
       "            <td>China           </td> <td>83,944,643.00 </td>\n",
       "        </tr>\n",
       "        <tr>\n",
       "            <td>Bangladesh      </td> <td>65,574,256.00 </td>\n",
       "        </tr>\n",
       "        <tr>\n",
       "            <td>Congo, Dem. Rep.</td> <td>57,841,438.00 </td>\n",
       "        </tr>\n",
       "        <tr>\n",
       "            <td>Indonesia       </td> <td>39,141,326.00 </td>\n",
       "        </tr>\n",
       "        <tr>\n",
       "            <td>Ethiopia        </td> <td>32,213,991.00 </td>\n",
       "        </tr>\n",
       "        <tr>\n",
       "            <td>Pakistan        </td> <td>21,663,595.00 </td>\n",
       "        </tr>\n",
       "        <tr>\n",
       "            <td>Tanzania        </td> <td>19,847,979.00 </td>\n",
       "        </tr>\n",
       "        <tr>\n",
       "            <td>Madagascar      </td> <td>18,480,426.00 </td>\n",
       "        </tr>\n",
       "    </tbody>\n",
       "</table>"
      ],
      "text/plain": [
       "name             | poverty_total\n",
       "India            | 290,881,638.00\n",
       "Nigeria          | 98,891,167.00\n",
       "China            | 83,944,643.00\n",
       "Bangladesh       | 65,574,256.00\n",
       "Congo, Dem. Rep. | 57,841,438.00\n",
       "Indonesia        | 39,141,326.00\n",
       "Ethiopia         | 32,213,991.00\n",
       "Pakistan         | 21,663,595.00\n",
       "Tanzania         | 19,847,979.00\n",
       "Madagascar       | 18,480,426.00"
      ]
     },
     "execution_count": 61,
     "metadata": {},
     "output_type": "execute_result"
    }
   ],
   "source": [
    "largest = poverty_map.sort('poverty_total', descending = True).take(np.arange(10)).select('name', 'poverty_total')\n",
    "largest.set_format('poverty_total', NumberFormatter)"
   ]
  },
  {
   "cell_type": "code",
   "execution_count": 62,
   "metadata": {
    "deletable": false,
    "editable": false
   },
   "outputs": [
    {
     "name": "stdout",
     "output_type": "stream",
     "text": [
      "~~~~~~~~~~~~~~~~~~~~~~~~~~~~~~~~~~~~~~~~~~~~~~~~~~~~~~~~~~~~~~~~~~~~~\n",
      "Running tests\n",
      "\n",
      "---------------------------------------------------------------------\n",
      "Test summary\n",
      "    Passed: 3\n",
      "    Failed: 0\n",
      "[ooooooooook] 100.0% passed\n",
      "\n"
     ]
    }
   ],
   "source": [
    "ok.grade(\"q2_5\");"
   ]
  },
  {
   "cell_type": "markdown",
   "metadata": {
    "deletable": false
   },
   "source": [
    "**Question 6.** Write a function called `poverty_timeline` that takes **the name of a country** (not the geo code) as its argument. It should draw a line plot of the number of people living in poverty in that country with time on the horizontal axis. The line plot should have a point for each row in the `poverty` table for that country. To compute the population living in poverty from a poverty percentage, multiply by the population of the country **in that year**.\n",
    "\n",
    "*Hint:* To make your plot, you will first need to make a table.\n",
    "\n",
    "*Hint:* This question is long. Feel free to create cells and experiment. "
   ]
  },
  {
   "cell_type": "code",
   "execution_count": 81,
   "metadata": {},
   "outputs": [],
   "source": [
    "def poverty_timeline(country):\n",
    "    '''Draw a timeline of people living in extreme poverty in a country.'''\n",
    "    geo = countries.where(\"name\", are.equal_to(country)).row(0).item(\"country\")\n",
    "    new_poverty = poverty.where(\"geo\", are.equal_to(geo))\n",
    "    new_pop = population.where(\"geo\", are.equal_to(geo))\n",
    "    new_pop_and_pov = new_poverty.join(\"time\", new_pop).drop(\"geo\").drop(\"geo_2\")\n",
    "    poverty_column = (new_pop_and_pov.column(\"extreme_poverty_percent_people_below_125_a_day\")*0.01)*(new_pop_and_pov.column(\"population_total\"))\n",
    "    final_table = new_pop_and_pov.with_column(\"Number in Poverty\", poverty_column)\n",
    "    final_table.plot(\"time\", \"Number in Poverty\")"
   ]
  },
  {
   "cell_type": "markdown",
   "metadata": {
    "deletable": false,
    "editable": false
   },
   "source": [
    "Finally, draw the timelines below to see how the world is changing. You can check your work by comparing your graphs to the ones on [gapminder.org](https://www.gapminder.org/tools/#$state$entities$show$country$/$in@=ind;;;;&marker$axis_y$which=number_of_people_in_poverty&scaleType=linear&spaceRef:null;;;&chart-type=linechart).\n",
    "\n",
    "<!--\n",
    "BEGIN QUESTION\n",
    "name: q2_6\n",
    "manual: true\n",
    "-->\n",
    "<!-- EXPORT TO PDF -->"
   ]
  },
  {
   "cell_type": "code",
   "execution_count": 82,
   "metadata": {
    "export_pdf": true
   },
   "outputs": [
    {
     "data": {
      "image/png": "[encoded data removed]",
      "text/plain": [
       "<Figure size 432x288 with 1 Axes>"
      ]
     },
     "metadata": {},
     "output_type": "display_data"
    },
    {
     "data": {
      "image/png": "[encoded data removed]",
      "text/plain": [
       "<Figure size 432x288 with 1 Axes>"
      ]
     },
     "metadata": {},
     "output_type": "display_data"
    },
    {
     "data": {
      "image/png": "[encoded data removed]",
      "text/plain": [
       "<Figure size 432x288 with 1 Axes>"
      ]
     },
     "metadata": {},
     "output_type": "display_data"
    },
    {
     "data": {
      "image/png": "[encoded data removed]",
      "text/plain": [
       "<Figure size 432x288 with 1 Axes>"
      ]
     },
     "metadata": {},
     "output_type": "display_data"
    }
   ],
   "source": [
    "poverty_timeline('India')\n",
    "poverty_timeline('Nigeria')\n",
    "poverty_timeline('China')\n",
    "poverty_timeline('United States')"
   ]
  },
  {
   "cell_type": "markdown",
   "metadata": {
    "deletable": false,
    "editable": false
   },
   "source": [
    "Although the number of people living in extreme poverty has been increasing in Nigeria and the United States, the massive decreases in China and India have shaped the overall trend that extreme poverty is decreasing worldwide, both in percentage and in absolute number. \n",
    "\n",
    "To learn more, watch [Hans Rosling in a 2015 film](https://www.gapminder.org/videos/dont-panic-end-poverty/) about the UN goal of eradicating extreme poverty from the world. \n",
    "\n",
    "Below, we've also added an interactive dropdown menu for you to visualize `poverty_timeline` graphs for other countries. Note that each dropdown menu selection may take a few seconds to run."
   ]
  },
  {
   "cell_type": "code",
   "execution_count": 83,
   "metadata": {
    "deletable": false,
    "editable": false
   },
   "outputs": [
    {
     "data": {
      "application/vnd.jupyter.widget-view+json": {
       "model_id": "f3803d3805ab4768aafd30ee96595c25",
       "version_major": 2,
       "version_minor": 0
      },
      "text/plain": [
       "interactive(children=(Dropdown(description='country', options=('Angola', 'Albania', 'Argentina', 'Armenia', 'A…"
      ]
     },
     "metadata": {},
     "output_type": "display_data"
    }
   ],
   "source": [
    "# Just run this cell\n",
    "\n",
    "all_countries = poverty_map.column('name')\n",
    "_ = widgets.interact(poverty_timeline, country=list(all_countries))"
   ]
  },
  {
   "cell_type": "markdown",
   "metadata": {
    "deletable": false,
    "editable": false
   },
   "source": [
    "**You're finished!** Congratulations on mastering data visualization and table manipulation. Time to submit."
   ]
  },
  {
   "cell_type": "markdown",
   "metadata": {},
   "source": [
    "## 3. Submission\n"
   ]
  },
  {
   "cell_type": "markdown",
   "metadata": {
    "collapsed": true
   },
   "source": [
    "Once you're finished, select \"Save and Checkpoint\" in the File menu and then execute the `submit` cell below. The result will contain a link that you can use to check that your assignment has been submitted successfully. If you submit more than once before the deadline, we will only grade your final submission. If you mistakenly submit the wrong one, you can head to [okpy.org](https://okpy.org/) and flag the correct version. To do so, go to the website, click on this assignment, and find the version you would like to have graded. There should be an option to flag that submission for grading!"
   ]
  },
  {
   "cell_type": "code",
   "execution_count": null,
   "metadata": {},
   "outputs": [],
   "source": [
    "_ = ok.submit()"
   ]
  },
  {
   "cell_type": "code",
   "execution_count": null,
   "metadata": {},
   "outputs": [],
   "source": [
    "# For your convenience, you can run this cell to run all the tests at once!\n",
    "import os\n",
    "print(\"Running all tests...\")\n",
    "_ = [ok.grade(q[:-3]) for q in os.listdir(\"tests\") if q.startswith('q') and len(q) <= 10]\n",
    "print(\"Finished running all tests.\")"
   ]
  },
  {
   "cell_type": "code",
   "execution_count": null,
   "metadata": {},
   "outputs": [],
   "source": []
  }
 ],
 "metadata": {
  "kernelspec": {
   "display_name": "Python 3",
   "language": "python",
   "name": "python3"
  },
  "language_info": {
   "codemirror_mode": {
    "name": "ipython",
    "version": 3
   },
   "file_extension": ".py",
   "mimetype": "text/x-python",
   "name": "python",
   "nbconvert_exporter": "python",
   "pygments_lexer": "ipython3",
   "version": "3.8.6"
  }
 },
 "nbformat": 4,
 "nbformat_minor": 1
}
